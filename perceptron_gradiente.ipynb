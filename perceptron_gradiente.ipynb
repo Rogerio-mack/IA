{
  "nbformat": 4,
  "nbformat_minor": 0,
  "metadata": {
    "colab": {
      "provenance": [],
      "authorship_tag": "ABX9TyO9vTb6Wi+hL1K1S38DhxYK",
      "include_colab_link": true
    },
    "kernelspec": {
      "name": "python3",
      "display_name": "Python 3"
    },
    "language_info": {
      "name": "python"
    }
  },
  "cells": [
    {
      "cell_type": "markdown",
      "metadata": {
        "id": "view-in-github",
        "colab_type": "text"
      },
      "source": [
        "<a href=\"https://colab.research.google.com/github/Rogerio-mack/IA/blob/main/perceptron_gradiente.ipynb\" target=\"_parent\"><img src=\"https://colab.research.google.com/assets/colab-badge.svg\" alt=\"Open In Colab\"/></a>"
      ]
    },
    {
      "cell_type": "markdown",
      "metadata": {
        "id": "pqEhMdFQO3A-"
      },
      "source": [
        "<head>\n",
        "  <meta name=\"author\" content=\"Rogério de Oliveira\">\n",
        "  <meta institution=\"author\" content=\"Universidade Presbiteriana Mackenzie\">\n",
        "</head>\n",
        "\n",
        "<img src=\"http://meusite.mackenzie.br/rogerio/mackenzie_logo/UPM.2_horizontal_vermelho.jpg\" width=300, align=\"right\"> \n",
        "\n",
        "\n",
        "\n"
      ]
    },
    {
      "cell_type": "markdown",
      "source": [
        "# Backpropagation e Derivadas: um exemplo de aproximação linear"
      ],
      "metadata": {
        "id": "jRu9R2b-EG9y"
      }
    },
    {
      "cell_type": "code",
      "execution_count": 23,
      "metadata": {
        "id": "NwbAuvs1xKs5"
      },
      "outputs": [],
      "source": [
        "import numpy as np\n",
        "import matplotlib.pyplot as plt\n",
        "%matplotlib inline"
      ]
    },
    {
      "cell_type": "code",
      "source": [
        "def f(x, w0, w1):\n",
        "  return w0 + w1*x\n",
        "\n",
        "def print_data(x=[],y=[],y_pred=None,error=None):\n",
        "  if y_pred is None:\n",
        "    display(pd.DataFrame({'x':x,'y':y}))\n",
        "  if y_pred is not None:\n",
        "    display(pd.DataFrame({'x':x,'y':y,'y_pred':y_pred,'error':error}))\n",
        "  return"
      ],
      "metadata": {
        "id": "Eow0tkfGxP13"
      },
      "execution_count": 24,
      "outputs": []
    },
    {
      "cell_type": "code",
      "source": [
        "x = np.arange(-5,5,1)\n",
        "y = f(x, 3, 2)\n",
        "\n",
        "print_data(x,y)"
      ],
      "metadata": {
        "colab": {
          "base_uri": "https://localhost:8080/",
          "height": 363
        },
        "id": "aonu0FZE8G95",
        "outputId": "59fec95f-cd17-4342-9e62-85d7eca28e07"
      },
      "execution_count": 25,
      "outputs": [
        {
          "output_type": "display_data",
          "data": {
            "text/plain": [
              "   x   y\n",
              "0 -5  -7\n",
              "1 -4  -5\n",
              "2 -3  -3\n",
              "3 -2  -1\n",
              "4 -1   1\n",
              "5  0   3\n",
              "6  1   5\n",
              "7  2   7\n",
              "8  3   9\n",
              "9  4  11"
            ],
            "text/html": [
              "\n",
              "  <div id=\"df-3ccea187-fcaa-4533-bf8c-ca11681a657c\">\n",
              "    <div class=\"colab-df-container\">\n",
              "      <div>\n",
              "<style scoped>\n",
              "    .dataframe tbody tr th:only-of-type {\n",
              "        vertical-align: middle;\n",
              "    }\n",
              "\n",
              "    .dataframe tbody tr th {\n",
              "        vertical-align: top;\n",
              "    }\n",
              "\n",
              "    .dataframe thead th {\n",
              "        text-align: right;\n",
              "    }\n",
              "</style>\n",
              "<table border=\"1\" class=\"dataframe\">\n",
              "  <thead>\n",
              "    <tr style=\"text-align: right;\">\n",
              "      <th></th>\n",
              "      <th>x</th>\n",
              "      <th>y</th>\n",
              "    </tr>\n",
              "  </thead>\n",
              "  <tbody>\n",
              "    <tr>\n",
              "      <th>0</th>\n",
              "      <td>-5</td>\n",
              "      <td>-7</td>\n",
              "    </tr>\n",
              "    <tr>\n",
              "      <th>1</th>\n",
              "      <td>-4</td>\n",
              "      <td>-5</td>\n",
              "    </tr>\n",
              "    <tr>\n",
              "      <th>2</th>\n",
              "      <td>-3</td>\n",
              "      <td>-3</td>\n",
              "    </tr>\n",
              "    <tr>\n",
              "      <th>3</th>\n",
              "      <td>-2</td>\n",
              "      <td>-1</td>\n",
              "    </tr>\n",
              "    <tr>\n",
              "      <th>4</th>\n",
              "      <td>-1</td>\n",
              "      <td>1</td>\n",
              "    </tr>\n",
              "    <tr>\n",
              "      <th>5</th>\n",
              "      <td>0</td>\n",
              "      <td>3</td>\n",
              "    </tr>\n",
              "    <tr>\n",
              "      <th>6</th>\n",
              "      <td>1</td>\n",
              "      <td>5</td>\n",
              "    </tr>\n",
              "    <tr>\n",
              "      <th>7</th>\n",
              "      <td>2</td>\n",
              "      <td>7</td>\n",
              "    </tr>\n",
              "    <tr>\n",
              "      <th>8</th>\n",
              "      <td>3</td>\n",
              "      <td>9</td>\n",
              "    </tr>\n",
              "    <tr>\n",
              "      <th>9</th>\n",
              "      <td>4</td>\n",
              "      <td>11</td>\n",
              "    </tr>\n",
              "  </tbody>\n",
              "</table>\n",
              "</div>\n",
              "      <button class=\"colab-df-convert\" onclick=\"convertToInteractive('df-3ccea187-fcaa-4533-bf8c-ca11681a657c')\"\n",
              "              title=\"Convert this dataframe to an interactive table.\"\n",
              "              style=\"display:none;\">\n",
              "        \n",
              "  <svg xmlns=\"http://www.w3.org/2000/svg\" height=\"24px\"viewBox=\"0 0 24 24\"\n",
              "       width=\"24px\">\n",
              "    <path d=\"M0 0h24v24H0V0z\" fill=\"none\"/>\n",
              "    <path d=\"M18.56 5.44l.94 2.06.94-2.06 2.06-.94-2.06-.94-.94-2.06-.94 2.06-2.06.94zm-11 1L8.5 8.5l.94-2.06 2.06-.94-2.06-.94L8.5 2.5l-.94 2.06-2.06.94zm10 10l.94 2.06.94-2.06 2.06-.94-2.06-.94-.94-2.06-.94 2.06-2.06.94z\"/><path d=\"M17.41 7.96l-1.37-1.37c-.4-.4-.92-.59-1.43-.59-.52 0-1.04.2-1.43.59L10.3 9.45l-7.72 7.72c-.78.78-.78 2.05 0 2.83L4 21.41c.39.39.9.59 1.41.59.51 0 1.02-.2 1.41-.59l7.78-7.78 2.81-2.81c.8-.78.8-2.07 0-2.86zM5.41 20L4 18.59l7.72-7.72 1.47 1.35L5.41 20z\"/>\n",
              "  </svg>\n",
              "      </button>\n",
              "      \n",
              "  <style>\n",
              "    .colab-df-container {\n",
              "      display:flex;\n",
              "      flex-wrap:wrap;\n",
              "      gap: 12px;\n",
              "    }\n",
              "\n",
              "    .colab-df-convert {\n",
              "      background-color: #E8F0FE;\n",
              "      border: none;\n",
              "      border-radius: 50%;\n",
              "      cursor: pointer;\n",
              "      display: none;\n",
              "      fill: #1967D2;\n",
              "      height: 32px;\n",
              "      padding: 0 0 0 0;\n",
              "      width: 32px;\n",
              "    }\n",
              "\n",
              "    .colab-df-convert:hover {\n",
              "      background-color: #E2EBFA;\n",
              "      box-shadow: 0px 1px 2px rgba(60, 64, 67, 0.3), 0px 1px 3px 1px rgba(60, 64, 67, 0.15);\n",
              "      fill: #174EA6;\n",
              "    }\n",
              "\n",
              "    [theme=dark] .colab-df-convert {\n",
              "      background-color: #3B4455;\n",
              "      fill: #D2E3FC;\n",
              "    }\n",
              "\n",
              "    [theme=dark] .colab-df-convert:hover {\n",
              "      background-color: #434B5C;\n",
              "      box-shadow: 0px 1px 3px 1px rgba(0, 0, 0, 0.15);\n",
              "      filter: drop-shadow(0px 1px 2px rgba(0, 0, 0, 0.3));\n",
              "      fill: #FFFFFF;\n",
              "    }\n",
              "  </style>\n",
              "\n",
              "      <script>\n",
              "        const buttonEl =\n",
              "          document.querySelector('#df-3ccea187-fcaa-4533-bf8c-ca11681a657c button.colab-df-convert');\n",
              "        buttonEl.style.display =\n",
              "          google.colab.kernel.accessAllowed ? 'block' : 'none';\n",
              "\n",
              "        async function convertToInteractive(key) {\n",
              "          const element = document.querySelector('#df-3ccea187-fcaa-4533-bf8c-ca11681a657c');\n",
              "          const dataTable =\n",
              "            await google.colab.kernel.invokeFunction('convertToInteractive',\n",
              "                                                     [key], {});\n",
              "          if (!dataTable) return;\n",
              "\n",
              "          const docLinkHtml = 'Like what you see? Visit the ' +\n",
              "            '<a target=\"_blank\" href=https://colab.research.google.com/notebooks/data_table.ipynb>data table notebook</a>'\n",
              "            + ' to learn more about interactive tables.';\n",
              "          element.innerHTML = '';\n",
              "          dataTable['output_type'] = 'display_data';\n",
              "          await google.colab.output.renderOutput(dataTable, element);\n",
              "          const docLink = document.createElement('div');\n",
              "          docLink.innerHTML = docLinkHtml;\n",
              "          element.appendChild(docLink);\n",
              "        }\n",
              "      </script>\n",
              "    </div>\n",
              "  </div>\n",
              "  "
            ]
          },
          "metadata": {}
        }
      ]
    },
    {
      "cell_type": "markdown",
      "metadata": {
        "id": "KPobMhHv11Hw"
      },
      "source": [
        "# Descida do Gradiente: Caso Linear\n",
        "\n",
        "A ideia por trás do métodos de descida do gradiente como também do Backpropagation é minimizarmos uma função de custo, em geral uma função. Por exemplo podemos querer minimizar o erro quadrático médio (MSE). \n",
        "\n",
        "$$ MSE = \\frac{1}{n} \\sum_{i = 1}^{n} (y_i - \\hat{y_i})^2 $$\n",
        "\n",
        "Neste exemplo vamos assumir um modelo linear  $\\hat{y_i} = w_1 x_i + w_0$ para nosso único neurônio e vamos entender como a descida do gradiente permite encontrar os valores $w_0$ e $w_1$ que minimizam o erro.  \n",
        "\n",
        "# Derivadas Parciais\n",
        "\n",
        "Nossa função erro é agora da forma:\n",
        "\n",
        "$$ f(w_0,w_1) = \\frac{1}{n} \\sum_{i = 1}^{n} (y_i - (w_1 x_i + w_0)) ^ 2 $$\n",
        "\n",
        "e para obtermos os valores de $w_0$ e $w_1$ que minimizam essa função podemos empregar as derivadas com relação $w_0$ e $w_1$ (derivadas parciais). \n",
        "\n",
        "Aplicando a regra da cadeia, \n",
        "\n",
        "$$ \\frac{d f(g (x))}{dx} = f'(g (x)) g (x) ' $$\n",
        "\n",
        "Obtemos, \n",
        "\n",
        "$$ \\frac{\\partial f(w_0,w_1)}{\\partial w_0} = \\frac{1}{n} \\sum_{i = 1}^{n} -2 (y_i - (w_1 x_i + w_0)) $$\n",
        "\n",
        "e\n",
        "\n",
        "$$ \\frac{\\partial f(w_0,w_1)}{\\partial w_1} = \\frac{1}{n} \\sum_{i = 1}^{n} -2x_i (y_i - (w_1 x_i + w_0)) $$\n",
        "\n",
        "\n",
        "Note a diferença, havendo o produto por $x_i$ somente na primeira derivada. E ainda podemos escrever:\n",
        "\n",
        "$$ \\frac{\\partial f(w_0,w_1)}{\\partial w_0} = \\frac{1}{n} \\sum_{i = 1}^{n} -2 (y_i - \\hat{y_i}) $$\n",
        "\n",
        "$$ \\frac{\\partial f(w_0,w_1)}{\\partial w_1} = \\frac{1}{n} \\sum_{i = 1}^{n} -2x_i (y_i - \\hat{y_i}) $$\n",
        "\n",
        "Os pesos podem então ser ajustados da seguinte forma (aprendizado do perceptron):\n",
        "\n",
        "$$ w_0 = w_0 + \\eta \\frac{\\partial f(w_0,w_1)}{\\partial w_0} $$\n",
        "$$ w_1 = w_1 + \\eta \\frac{\\partial f(w_0,w_1)}{\\partial w_1} $$\n",
        "\n",
        "Ou ainda, para cada $i$,\n",
        "\n",
        "$$ w_0 = w_0 - \\eta . 2 \\hat{y_i} = w_0 - \\lambda (y_i - \\hat{y_i})$$\n",
        "$$ w_1 = w_1 - \\eta . 2 x_i \\hat{y_i} = = w_1 - \\lambda x_i (y_i - \\hat{y_i})$$\n",
        "\n",
        "É isso que faremos para ajustar sucessivamente os pesos e chegar aos valores de $w_0$ e $w_1$ que minimizam a função.\n",
        "\n",
        "A descida do gradiente é um processo iterativo que a cada iteração (epoch) minimizamos ligeiramente o MSE atualizando os pesos com base nessas derivadas. Você não precisa saber todos os detalhes desse cálculo. O importante é que você entenda que:\n",
        "\n",
        "> **Os métodos de descida do gradiente, assim como o Backpropagation, são um processo que emprega as derivadas de uma função custo (o erro) para repetidamente ajustar os pesos de uma rede neural e minimizar o erro (o custo).**\n",
        "\n",
        "\n"
      ]
    },
    {
      "cell_type": "code",
      "source": [
        "w0 = 1\n",
        "w1 = 1\n",
        "mu = 0.2\n",
        "max_it = 10\n",
        "erro_hist = []\n",
        "\n",
        "for it in range(max_it):\n",
        "  for i in range(len(x)):\n",
        "\n",
        "    y_pred = f(x[i],w0,w1)\n",
        "  \n",
        "    dE = (y[i] - y_pred)\n",
        "    \n",
        "    w0 = w0 + mu*dE\n",
        "    w1 = w1 + mu*dE*x[i]\n",
        " \n",
        "  erro_hist.append( np.mean( ( y - f(x,w0,w1) )**2 ) )\n",
        "\n",
        "  print('w0 = ', w0, ' w1 = ', w1)\n",
        "\n"
      ],
      "metadata": {
        "colab": {
          "base_uri": "https://localhost:8080/"
        },
        "id": "f5Fld2QUy1CZ",
        "outputId": "0e2d480e-16fc-4790-8afb-2800de763e88"
      },
      "execution_count": 34,
      "outputs": [
        {
          "output_type": "stream",
          "name": "stdout",
          "text": [
            "w0 =  2.6503523328  w1 =  2.1479278592\n",
            "w0 =  2.8943274479085472  w1 =  2.044707618192537\n",
            "w0 =  2.9680630265462815  w1 =  2.013511796461186\n",
            "w0 =  2.990347822086281  w1 =  2.00408361373273\n",
            "w0 =  2.997082862638405  w1 =  2.0012341734991357\n",
            "w0 =  2.99911836577584  w1 =  2.0003729990948353\n",
            "w0 =  2.99973354737578  w1 =  2.0001127299564017\n",
            "w0 =  2.9999194711377934  w1 =  2.0000340699032426\n",
            "w0 =  2.999975662098779  w1 =  2.0000102968043616\n",
            "w0 =  2.999992644457904  w1 =  2.0000031119601145\n"
          ]
        }
      ]
    },
    {
      "cell_type": "code",
      "source": [
        "plt.plot(erro_hist)\n",
        "plt.show()"
      ],
      "metadata": {
        "colab": {
          "base_uri": "https://localhost:8080/",
          "height": 265
        },
        "id": "jssGClfR5af5",
        "outputId": "c3a13666-6221-4696-c3d4-0cfbc635e8bc"
      },
      "execution_count": 32,
      "outputs": [
        {
          "output_type": "display_data",
          "data": {
            "text/plain": [
              "<Figure size 432x288 with 1 Axes>"
            ],
            "image/png": "[encoded data removed]"
          },
          "metadata": {
            "needs_background": "light"
          }
        }
      ]
    }
  ]
}