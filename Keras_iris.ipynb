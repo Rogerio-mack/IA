{
  "nbformat": 4,
  "nbformat_minor": 0,
  "metadata": {
    "anaconda-cloud": {},
    "kernelspec": {
      "display_name": "Python 3",
      "language": "python",
      "name": "python3"
    },
    "language_info": {
      "codemirror_mode": {
        "name": "ipython",
        "version": 3
      },
      "file_extension": ".py",
      "mimetype": "text/x-python",
      "name": "python",
      "nbconvert_exporter": "python",
      "pygments_lexer": "ipython3",
      "version": "3.7.4"
    },
    "colab": {
      "provenance": [],
      "collapsed_sections": [],
      "include_colab_link": true
    }
  },
  "cells": [
    {
      "cell_type": "markdown",
      "metadata": {
        "id": "view-in-github",
        "colab_type": "text"
      },
      "source": [
        "<a href=\"https://colab.research.google.com/github/Rogerio-mack/IA/blob/main/Keras_iris.ipynb\" target=\"_parent\"><img src=\"https://colab.research.google.com/assets/colab-badge.svg\" alt=\"Open In Colab\"/></a>"
      ]
    },
    {
      "cell_type": "markdown",
      "metadata": {
        "id": "gglUriLmo1sR"
      },
      "source": [
        "<head>\n",
        "  <meta name=\"author\" content=\"Rogério de Oliveira\">\n",
        "  <meta institution=\"author\" content=\"Universidade Presbiteriana Mackenzie\">\n",
        "</head>\n",
        "\n",
        "<img src=\"http://meusite.mackenzie.br/rogerio/mackenzie_logo/UPM.2_horizontal_vermelho.jpg\" width=300, align=\"right\"></a>\n",
        "<!-- <h1 align=left><font size = 6, style=\"color:rgb(200,0,0)\"> optional title </font></h1> -->"
      ]
    },
    {
      "cell_type": "markdown",
      "source": [
        "# Keras TensorFlow\n",
        "\n",
        "Pontos importantes aqui:\n",
        "\n",
        "* Transformações dos dados: hot encode e normalização\n",
        "* GPU \n",
        "* Como configurar as camadas da rede deep learning\n",
        "* Principais parâmetros da rede e do aprendizado\n",
        "* Evolução do Treinamento\n",
        "* Conjuntos de Treinamento, Teste e Validação\n",
        "* Predição: hot encode^-1\n",
        "* Busca por melhores modelos "
      ],
      "metadata": {
        "id": "oE8JCrDqGNjK"
      }
    },
    {
      "cell_type": "code",
      "source": [
        "import numpy as np\n",
        "import pandas as pd\n",
        "import matplotlib.pyplot as plt\n",
        "%matplotlib inline\n",
        "import seaborn as sns"
      ],
      "metadata": {
        "id": "lCLrs_gphWec"
      },
      "execution_count": 134,
      "outputs": []
    },
    {
      "cell_type": "code",
      "metadata": {
        "id": "Fqxk5xmJqYpa"
      },
      "source": [
        "from tensorflow import keras\n",
        "from tensorflow.keras import layers\n",
        "from keras import Sequential, layers\n",
        "import tensorflow as tf\n",
        "\n",
        "from sklearn.model_selection import train_test_split\n",
        "from sklearn.metrics import confusion_matrix\n",
        "from sklearn.metrics import classification_report  "
      ],
      "execution_count": 135,
      "outputs": []
    },
    {
      "cell_type": "code",
      "source": [
        "print(\"TF Version: \", tf.__version__)\n",
        "print(\"GPU available: \", tf.config.list_physical_devices('GPU')) # havendo disponibilidade o modelo executa empregando GPU"
      ],
      "metadata": {
        "colab": {
          "base_uri": "https://localhost:8080/"
        },
        "id": "Af87y0DS6Lpm",
        "outputId": "47de2019-4b00-4496-8b10-7213dc186ba8"
      },
      "execution_count": 136,
      "outputs": [
        {
          "output_type": "stream",
          "name": "stdout",
          "text": [
            "TF Version:  2.9.2\n",
            "GPU available:  []\n"
          ]
        }
      ]
    },
    {
      "cell_type": "code",
      "source": [
        "#@markdown `plot_loss_acc(history,more_title='')`\n",
        "def plot_loss_acc(history,more_title=''):\n",
        "    \n",
        "    loss = history.history['loss']\n",
        "    val_loss = history.history['val_loss']\n",
        "    epochs = range(1, len(loss) + 1)\n",
        "    plt.figure(figsize=(8,5))\n",
        "    plt.plot(epochs, loss, 'y', label='Training loss')\n",
        "    plt.plot(epochs, val_loss, 'r', label='Validation loss')\n",
        "    plt.title('Training and validation loss' + ' ' + more_title)\n",
        "    plt.xlabel('Epochs')\n",
        "    plt.ylabel('Loss')\n",
        "    plt.legend()\n",
        "    plt.show()\n",
        "    \n",
        "    acc = history.history['accuracy']\n",
        "    val_acc = history.history['val_accuracy']\n",
        "    plt.figure(figsize=(8,5))\n",
        "    plt.plot(epochs, acc, 'y', label='Training acc')\n",
        "    plt.plot(epochs, val_acc, 'r', label='Validation acc')\n",
        "    plt.title('Training and validation accuracy' + ' ' + more_title)\n",
        "    plt.xlabel('Epochs')\n",
        "    plt.ylabel('Accuracy')\n",
        "    plt.legend()\n",
        "    plt.show()\n",
        "\n",
        "    print(more_title + 'Accuracy Train: {:.2f} %, Accuracy Test: {:.2f} %'.format(acc[len(acc)-1] *100, val_acc[len(val_acc)-1]*100))\n",
        "\n",
        "    return loss, val_loss, acc, val_acc"
      ],
      "metadata": {
        "cellView": "form",
        "id": "_9XBBZa_6AR-"
      },
      "execution_count": 137,
      "outputs": []
    },
    {
      "cell_type": "markdown",
      "source": [
        "# Dados"
      ],
      "metadata": {
        "id": "HzKo4Nd9rAze"
      }
    },
    {
      "cell_type": "code",
      "source": [
        "df = sns.load_dataset('iris')\n",
        "df.head()"
      ],
      "metadata": {
        "colab": {
          "base_uri": "https://localhost:8080/",
          "height": 206
        },
        "id": "DcofqH1SyTiB",
        "outputId": "24eb840c-3874-4a87-da89-fbc6b6ef5f59"
      },
      "execution_count": 138,
      "outputs": [
        {
          "output_type": "execute_result",
          "data": {
            "text/plain": [
              "   sepal_length  sepal_width  petal_length  petal_width species\n",
              "0           5.1          3.5           1.4          0.2  setosa\n",
              "1           4.9          3.0           1.4          0.2  setosa\n",
              "2           4.7          3.2           1.3          0.2  setosa\n",
              "3           4.6          3.1           1.5          0.2  setosa\n",
              "4           5.0          3.6           1.4          0.2  setosa"
            ],
            "text/html": [
              "\n",
              "  <div id=\"df-c93de18b-205e-49b7-8aa9-925ec686adbb\">\n",
              "    <div class=\"colab-df-container\">\n",
              "      <div>\n",
              "<style scoped>\n",
              "    .dataframe tbody tr th:only-of-type {\n",
              "        vertical-align: middle;\n",
              "    }\n",
              "\n",
              "    .dataframe tbody tr th {\n",
              "        vertical-align: top;\n",
              "    }\n",
              "\n",
              "    .dataframe thead th {\n",
              "        text-align: right;\n",
              "    }\n",
              "</style>\n",
              "<table border=\"1\" class=\"dataframe\">\n",
              "  <thead>\n",
              "    <tr style=\"text-align: right;\">\n",
              "      <th></th>\n",
              "      <th>sepal_length</th>\n",
              "      <th>sepal_width</th>\n",
              "      <th>petal_length</th>\n",
              "      <th>petal_width</th>\n",
              "      <th>species</th>\n",
              "    </tr>\n",
              "  </thead>\n",
              "  <tbody>\n",
              "    <tr>\n",
              "      <th>0</th>\n",
              "      <td>5.1</td>\n",
              "      <td>3.5</td>\n",
              "      <td>1.4</td>\n",
              "      <td>0.2</td>\n",
              "      <td>setosa</td>\n",
              "    </tr>\n",
              "    <tr>\n",
              "      <th>1</th>\n",
              "      <td>4.9</td>\n",
              "      <td>3.0</td>\n",
              "      <td>1.4</td>\n",
              "      <td>0.2</td>\n",
              "      <td>setosa</td>\n",
              "    </tr>\n",
              "    <tr>\n",
              "      <th>2</th>\n",
              "      <td>4.7</td>\n",
              "      <td>3.2</td>\n",
              "      <td>1.3</td>\n",
              "      <td>0.2</td>\n",
              "      <td>setosa</td>\n",
              "    </tr>\n",
              "    <tr>\n",
              "      <th>3</th>\n",
              "      <td>4.6</td>\n",
              "      <td>3.1</td>\n",
              "      <td>1.5</td>\n",
              "      <td>0.2</td>\n",
              "      <td>setosa</td>\n",
              "    </tr>\n",
              "    <tr>\n",
              "      <th>4</th>\n",
              "      <td>5.0</td>\n",
              "      <td>3.6</td>\n",
              "      <td>1.4</td>\n",
              "      <td>0.2</td>\n",
              "      <td>setosa</td>\n",
              "    </tr>\n",
              "  </tbody>\n",
              "</table>\n",
              "</div>\n",
              "      <button class=\"colab-df-convert\" onclick=\"convertToInteractive('df-c93de18b-205e-49b7-8aa9-925ec686adbb')\"\n",
              "              title=\"Convert this dataframe to an interactive table.\"\n",
              "              style=\"display:none;\">\n",
              "        \n",
              "  <svg xmlns=\"http://www.w3.org/2000/svg\" height=\"24px\"viewBox=\"0 0 24 24\"\n",
              "       width=\"24px\">\n",
              "    <path d=\"M0 0h24v24H0V0z\" fill=\"none\"/>\n",
              "    <path d=\"M18.56 5.44l.94 2.06.94-2.06 2.06-.94-2.06-.94-.94-2.06-.94 2.06-2.06.94zm-11 1L8.5 8.5l.94-2.06 2.06-.94-2.06-.94L8.5 2.5l-.94 2.06-2.06.94zm10 10l.94 2.06.94-2.06 2.06-.94-2.06-.94-.94-2.06-.94 2.06-2.06.94z\"/><path d=\"M17.41 7.96l-1.37-1.37c-.4-.4-.92-.59-1.43-.59-.52 0-1.04.2-1.43.59L10.3 9.45l-7.72 7.72c-.78.78-.78 2.05 0 2.83L4 21.41c.39.39.9.59 1.41.59.51 0 1.02-.2 1.41-.59l7.78-7.78 2.81-2.81c.8-.78.8-2.07 0-2.86zM5.41 20L4 18.59l7.72-7.72 1.47 1.35L5.41 20z\"/>\n",
              "  </svg>\n",
              "      </button>\n",
              "      \n",
              "  <style>\n",
              "    .colab-df-container {\n",
              "      display:flex;\n",
              "      flex-wrap:wrap;\n",
              "      gap: 12px;\n",
              "    }\n",
              "\n",
              "    .colab-df-convert {\n",
              "      background-color: #E8F0FE;\n",
              "      border: none;\n",
              "      border-radius: 50%;\n",
              "      cursor: pointer;\n",
              "      display: none;\n",
              "      fill: #1967D2;\n",
              "      height: 32px;\n",
              "      padding: 0 0 0 0;\n",
              "      width: 32px;\n",
              "    }\n",
              "\n",
              "    .colab-df-convert:hover {\n",
              "      background-color: #E2EBFA;\n",
              "      box-shadow: 0px 1px 2px rgba(60, 64, 67, 0.3), 0px 1px 3px 1px rgba(60, 64, 67, 0.15);\n",
              "      fill: #174EA6;\n",
              "    }\n",
              "\n",
              "    [theme=dark] .colab-df-convert {\n",
              "      background-color: #3B4455;\n",
              "      fill: #D2E3FC;\n",
              "    }\n",
              "\n",
              "    [theme=dark] .colab-df-convert:hover {\n",
              "      background-color: #434B5C;\n",
              "      box-shadow: 0px 1px 3px 1px rgba(0, 0, 0, 0.15);\n",
              "      filter: drop-shadow(0px 1px 2px rgba(0, 0, 0, 0.3));\n",
              "      fill: #FFFFFF;\n",
              "    }\n",
              "  </style>\n",
              "\n",
              "      <script>\n",
              "        const buttonEl =\n",
              "          document.querySelector('#df-c93de18b-205e-49b7-8aa9-925ec686adbb button.colab-df-convert');\n",
              "        buttonEl.style.display =\n",
              "          google.colab.kernel.accessAllowed ? 'block' : 'none';\n",
              "\n",
              "        async function convertToInteractive(key) {\n",
              "          const element = document.querySelector('#df-c93de18b-205e-49b7-8aa9-925ec686adbb');\n",
              "          const dataTable =\n",
              "            await google.colab.kernel.invokeFunction('convertToInteractive',\n",
              "                                                     [key], {});\n",
              "          if (!dataTable) return;\n",
              "\n",
              "          const docLinkHtml = 'Like what you see? Visit the ' +\n",
              "            '<a target=\"_blank\" href=https://colab.research.google.com/notebooks/data_table.ipynb>data table notebook</a>'\n",
              "            + ' to learn more about interactive tables.';\n",
              "          element.innerHTML = '';\n",
              "          dataTable['output_type'] = 'display_data';\n",
              "          await google.colab.output.renderOutput(dataTable, element);\n",
              "          const docLink = document.createElement('div');\n",
              "          docLink.innerHTML = docLinkHtml;\n",
              "          element.appendChild(docLink);\n",
              "        }\n",
              "      </script>\n",
              "    </div>\n",
              "  </div>\n",
              "  "
            ]
          },
          "metadata": {},
          "execution_count": 138
        }
      ]
    },
    {
      "cell_type": "markdown",
      "metadata": {
        "id": "qiu60pVtxFN-"
      },
      "source": [
        "# Variáveis Preditoras e Objetivo"
      ]
    },
    {
      "cell_type": "markdown",
      "source": [
        "## Hot Encode da variável Objetivo\n",
        "\n",
        "Esta transformação é necessária na maior parte dos frameworks de Deep Learning."
      ],
      "metadata": {
        "id": "iIeQLeGY8V9d"
      }
    },
    {
      "cell_type": "code",
      "source": [
        "from sklearn.preprocessing import OneHotEncoder, LabelEncoder\n",
        "\n",
        "hot_encode = OneHotEncoder(handle_unknown='ignore') \n",
        "hot_encode = hot_encode.fit(df[['species']])\n",
        "transformed = hot_encode.transform(df[['species']]).toarray()\n",
        "# print(transformed)\n",
        "\n",
        "transformed_df = pd.DataFrame(transformed, columns=hot_encode.get_feature_names_out())\n",
        "display(transformed_df.head())\n",
        "\n",
        "df = pd.concat([df, transformed_df],axis=1) \n",
        "df.head()"
      ],
      "metadata": {
        "colab": {
          "base_uri": "https://localhost:8080/",
          "height": 395
        },
        "id": "MXcrTcMD8PUm",
        "outputId": "f1c937bb-b326-4124-c2f3-d0455dbffacd"
      },
      "execution_count": 139,
      "outputs": [
        {
          "output_type": "display_data",
          "data": {
            "text/plain": [
              "   species_setosa  species_versicolor  species_virginica\n",
              "0             1.0                 0.0                0.0\n",
              "1             1.0                 0.0                0.0\n",
              "2             1.0                 0.0                0.0\n",
              "3             1.0                 0.0                0.0\n",
              "4             1.0                 0.0                0.0"
            ],
            "text/html": [
              "\n",
              "  <div id=\"df-92b4b7ba-ea44-4a37-b65d-8b27478ca614\">\n",
              "    <div class=\"colab-df-container\">\n",
              "      <div>\n",
              "<style scoped>\n",
              "    .dataframe tbody tr th:only-of-type {\n",
              "        vertical-align: middle;\n",
              "    }\n",
              "\n",
              "    .dataframe tbody tr th {\n",
              "        vertical-align: top;\n",
              "    }\n",
              "\n",
              "    .dataframe thead th {\n",
              "        text-align: right;\n",
              "    }\n",
              "</style>\n",
              "<table border=\"1\" class=\"dataframe\">\n",
              "  <thead>\n",
              "    <tr style=\"text-align: right;\">\n",
              "      <th></th>\n",
              "      <th>species_setosa</th>\n",
              "      <th>species_versicolor</th>\n",
              "      <th>species_virginica</th>\n",
              "    </tr>\n",
              "  </thead>\n",
              "  <tbody>\n",
              "    <tr>\n",
              "      <th>0</th>\n",
              "      <td>1.0</td>\n",
              "      <td>0.0</td>\n",
              "      <td>0.0</td>\n",
              "    </tr>\n",
              "    <tr>\n",
              "      <th>1</th>\n",
              "      <td>1.0</td>\n",
              "      <td>0.0</td>\n",
              "      <td>0.0</td>\n",
              "    </tr>\n",
              "    <tr>\n",
              "      <th>2</th>\n",
              "      <td>1.0</td>\n",
              "      <td>0.0</td>\n",
              "      <td>0.0</td>\n",
              "    </tr>\n",
              "    <tr>\n",
              "      <th>3</th>\n",
              "      <td>1.0</td>\n",
              "      <td>0.0</td>\n",
              "      <td>0.0</td>\n",
              "    </tr>\n",
              "    <tr>\n",
              "      <th>4</th>\n",
              "      <td>1.0</td>\n",
              "      <td>0.0</td>\n",
              "      <td>0.0</td>\n",
              "    </tr>\n",
              "  </tbody>\n",
              "</table>\n",
              "</div>\n",
              "      <button class=\"colab-df-convert\" onclick=\"convertToInteractive('df-92b4b7ba-ea44-4a37-b65d-8b27478ca614')\"\n",
              "              title=\"Convert this dataframe to an interactive table.\"\n",
              "              style=\"display:none;\">\n",
              "        \n",
              "  <svg xmlns=\"http://www.w3.org/2000/svg\" height=\"24px\"viewBox=\"0 0 24 24\"\n",
              "       width=\"24px\">\n",
              "    <path d=\"M0 0h24v24H0V0z\" fill=\"none\"/>\n",
              "    <path d=\"M18.56 5.44l.94 2.06.94-2.06 2.06-.94-2.06-.94-.94-2.06-.94 2.06-2.06.94zm-11 1L8.5 8.5l.94-2.06 2.06-.94-2.06-.94L8.5 2.5l-.94 2.06-2.06.94zm10 10l.94 2.06.94-2.06 2.06-.94-2.06-.94-.94-2.06-.94 2.06-2.06.94z\"/><path d=\"M17.41 7.96l-1.37-1.37c-.4-.4-.92-.59-1.43-.59-.52 0-1.04.2-1.43.59L10.3 9.45l-7.72 7.72c-.78.78-.78 2.05 0 2.83L4 21.41c.39.39.9.59 1.41.59.51 0 1.02-.2 1.41-.59l7.78-7.78 2.81-2.81c.8-.78.8-2.07 0-2.86zM5.41 20L4 18.59l7.72-7.72 1.47 1.35L5.41 20z\"/>\n",
              "  </svg>\n",
              "      </button>\n",
              "      \n",
              "  <style>\n",
              "    .colab-df-container {\n",
              "      display:flex;\n",
              "      flex-wrap:wrap;\n",
              "      gap: 12px;\n",
              "    }\n",
              "\n",
              "    .colab-df-convert {\n",
              "      background-color: #E8F0FE;\n",
              "      border: none;\n",
              "      border-radius: 50%;\n",
              "      cursor: pointer;\n",
              "      display: none;\n",
              "      fill: #1967D2;\n",
              "      height: 32px;\n",
              "      padding: 0 0 0 0;\n",
              "      width: 32px;\n",
              "    }\n",
              "\n",
              "    .colab-df-convert:hover {\n",
              "      background-color: #E2EBFA;\n",
              "      box-shadow: 0px 1px 2px rgba(60, 64, 67, 0.3), 0px 1px 3px 1px rgba(60, 64, 67, 0.15);\n",
              "      fill: #174EA6;\n",
              "    }\n",
              "\n",
              "    [theme=dark] .colab-df-convert {\n",
              "      background-color: #3B4455;\n",
              "      fill: #D2E3FC;\n",
              "    }\n",
              "\n",
              "    [theme=dark] .colab-df-convert:hover {\n",
              "      background-color: #434B5C;\n",
              "      box-shadow: 0px 1px 3px 1px rgba(0, 0, 0, 0.15);\n",
              "      filter: drop-shadow(0px 1px 2px rgba(0, 0, 0, 0.3));\n",
              "      fill: #FFFFFF;\n",
              "    }\n",
              "  </style>\n",
              "\n",
              "      <script>\n",
              "        const buttonEl =\n",
              "          document.querySelector('#df-92b4b7ba-ea44-4a37-b65d-8b27478ca614 button.colab-df-convert');\n",
              "        buttonEl.style.display =\n",
              "          google.colab.kernel.accessAllowed ? 'block' : 'none';\n",
              "\n",
              "        async function convertToInteractive(key) {\n",
              "          const element = document.querySelector('#df-92b4b7ba-ea44-4a37-b65d-8b27478ca614');\n",
              "          const dataTable =\n",
              "            await google.colab.kernel.invokeFunction('convertToInteractive',\n",
              "                                                     [key], {});\n",
              "          if (!dataTable) return;\n",
              "\n",
              "          const docLinkHtml = 'Like what you see? Visit the ' +\n",
              "            '<a target=\"_blank\" href=https://colab.research.google.com/notebooks/data_table.ipynb>data table notebook</a>'\n",
              "            + ' to learn more about interactive tables.';\n",
              "          element.innerHTML = '';\n",
              "          dataTable['output_type'] = 'display_data';\n",
              "          await google.colab.output.renderOutput(dataTable, element);\n",
              "          const docLink = document.createElement('div');\n",
              "          docLink.innerHTML = docLinkHtml;\n",
              "          element.appendChild(docLink);\n",
              "        }\n",
              "      </script>\n",
              "    </div>\n",
              "  </div>\n",
              "  "
            ]
          },
          "metadata": {}
        },
        {
          "output_type": "execute_result",
          "data": {
            "text/plain": [
              "   sepal_length  sepal_width  petal_length  petal_width species  \\\n",
              "0           5.1          3.5           1.4          0.2  setosa   \n",
              "1           4.9          3.0           1.4          0.2  setosa   \n",
              "2           4.7          3.2           1.3          0.2  setosa   \n",
              "3           4.6          3.1           1.5          0.2  setosa   \n",
              "4           5.0          3.6           1.4          0.2  setosa   \n",
              "\n",
              "   species_setosa  species_versicolor  species_virginica  \n",
              "0             1.0                 0.0                0.0  \n",
              "1             1.0                 0.0                0.0  \n",
              "2             1.0                 0.0                0.0  \n",
              "3             1.0                 0.0                0.0  \n",
              "4             1.0                 0.0                0.0  "
            ],
            "text/html": [
              "\n",
              "  <div id=\"df-98c85198-d44f-4c90-a466-813e89672d8a\">\n",
              "    <div class=\"colab-df-container\">\n",
              "      <div>\n",
              "<style scoped>\n",
              "    .dataframe tbody tr th:only-of-type {\n",
              "        vertical-align: middle;\n",
              "    }\n",
              "\n",
              "    .dataframe tbody tr th {\n",
              "        vertical-align: top;\n",
              "    }\n",
              "\n",
              "    .dataframe thead th {\n",
              "        text-align: right;\n",
              "    }\n",
              "</style>\n",
              "<table border=\"1\" class=\"dataframe\">\n",
              "  <thead>\n",
              "    <tr style=\"text-align: right;\">\n",
              "      <th></th>\n",
              "      <th>sepal_length</th>\n",
              "      <th>sepal_width</th>\n",
              "      <th>petal_length</th>\n",
              "      <th>petal_width</th>\n",
              "      <th>species</th>\n",
              "      <th>species_setosa</th>\n",
              "      <th>species_versicolor</th>\n",
              "      <th>species_virginica</th>\n",
              "    </tr>\n",
              "  </thead>\n",
              "  <tbody>\n",
              "    <tr>\n",
              "      <th>0</th>\n",
              "      <td>5.1</td>\n",
              "      <td>3.5</td>\n",
              "      <td>1.4</td>\n",
              "      <td>0.2</td>\n",
              "      <td>setosa</td>\n",
              "      <td>1.0</td>\n",
              "      <td>0.0</td>\n",
              "      <td>0.0</td>\n",
              "    </tr>\n",
              "    <tr>\n",
              "      <th>1</th>\n",
              "      <td>4.9</td>\n",
              "      <td>3.0</td>\n",
              "      <td>1.4</td>\n",
              "      <td>0.2</td>\n",
              "      <td>setosa</td>\n",
              "      <td>1.0</td>\n",
              "      <td>0.0</td>\n",
              "      <td>0.0</td>\n",
              "    </tr>\n",
              "    <tr>\n",
              "      <th>2</th>\n",
              "      <td>4.7</td>\n",
              "      <td>3.2</td>\n",
              "      <td>1.3</td>\n",
              "      <td>0.2</td>\n",
              "      <td>setosa</td>\n",
              "      <td>1.0</td>\n",
              "      <td>0.0</td>\n",
              "      <td>0.0</td>\n",
              "    </tr>\n",
              "    <tr>\n",
              "      <th>3</th>\n",
              "      <td>4.6</td>\n",
              "      <td>3.1</td>\n",
              "      <td>1.5</td>\n",
              "      <td>0.2</td>\n",
              "      <td>setosa</td>\n",
              "      <td>1.0</td>\n",
              "      <td>0.0</td>\n",
              "      <td>0.0</td>\n",
              "    </tr>\n",
              "    <tr>\n",
              "      <th>4</th>\n",
              "      <td>5.0</td>\n",
              "      <td>3.6</td>\n",
              "      <td>1.4</td>\n",
              "      <td>0.2</td>\n",
              "      <td>setosa</td>\n",
              "      <td>1.0</td>\n",
              "      <td>0.0</td>\n",
              "      <td>0.0</td>\n",
              "    </tr>\n",
              "  </tbody>\n",
              "</table>\n",
              "</div>\n",
              "      <button class=\"colab-df-convert\" onclick=\"convertToInteractive('df-98c85198-d44f-4c90-a466-813e89672d8a')\"\n",
              "              title=\"Convert this dataframe to an interactive table.\"\n",
              "              style=\"display:none;\">\n",
              "        \n",
              "  <svg xmlns=\"http://www.w3.org/2000/svg\" height=\"24px\"viewBox=\"0 0 24 24\"\n",
              "       width=\"24px\">\n",
              "    <path d=\"M0 0h24v24H0V0z\" fill=\"none\"/>\n",
              "    <path d=\"M18.56 5.44l.94 2.06.94-2.06 2.06-.94-2.06-.94-.94-2.06-.94 2.06-2.06.94zm-11 1L8.5 8.5l.94-2.06 2.06-.94-2.06-.94L8.5 2.5l-.94 2.06-2.06.94zm10 10l.94 2.06.94-2.06 2.06-.94-2.06-.94-.94-2.06-.94 2.06-2.06.94z\"/><path d=\"M17.41 7.96l-1.37-1.37c-.4-.4-.92-.59-1.43-.59-.52 0-1.04.2-1.43.59L10.3 9.45l-7.72 7.72c-.78.78-.78 2.05 0 2.83L4 21.41c.39.39.9.59 1.41.59.51 0 1.02-.2 1.41-.59l7.78-7.78 2.81-2.81c.8-.78.8-2.07 0-2.86zM5.41 20L4 18.59l7.72-7.72 1.47 1.35L5.41 20z\"/>\n",
              "  </svg>\n",
              "      </button>\n",
              "      \n",
              "  <style>\n",
              "    .colab-df-container {\n",
              "      display:flex;\n",
              "      flex-wrap:wrap;\n",
              "      gap: 12px;\n",
              "    }\n",
              "\n",
              "    .colab-df-convert {\n",
              "      background-color: #E8F0FE;\n",
              "      border: none;\n",
              "      border-radius: 50%;\n",
              "      cursor: pointer;\n",
              "      display: none;\n",
              "      fill: #1967D2;\n",
              "      height: 32px;\n",
              "      padding: 0 0 0 0;\n",
              "      width: 32px;\n",
              "    }\n",
              "\n",
              "    .colab-df-convert:hover {\n",
              "      background-color: #E2EBFA;\n",
              "      box-shadow: 0px 1px 2px rgba(60, 64, 67, 0.3), 0px 1px 3px 1px rgba(60, 64, 67, 0.15);\n",
              "      fill: #174EA6;\n",
              "    }\n",
              "\n",
              "    [theme=dark] .colab-df-convert {\n",
              "      background-color: #3B4455;\n",
              "      fill: #D2E3FC;\n",
              "    }\n",
              "\n",
              "    [theme=dark] .colab-df-convert:hover {\n",
              "      background-color: #434B5C;\n",
              "      box-shadow: 0px 1px 3px 1px rgba(0, 0, 0, 0.15);\n",
              "      filter: drop-shadow(0px 1px 2px rgba(0, 0, 0, 0.3));\n",
              "      fill: #FFFFFF;\n",
              "    }\n",
              "  </style>\n",
              "\n",
              "      <script>\n",
              "        const buttonEl =\n",
              "          document.querySelector('#df-98c85198-d44f-4c90-a466-813e89672d8a button.colab-df-convert');\n",
              "        buttonEl.style.display =\n",
              "          google.colab.kernel.accessAllowed ? 'block' : 'none';\n",
              "\n",
              "        async function convertToInteractive(key) {\n",
              "          const element = document.querySelector('#df-98c85198-d44f-4c90-a466-813e89672d8a');\n",
              "          const dataTable =\n",
              "            await google.colab.kernel.invokeFunction('convertToInteractive',\n",
              "                                                     [key], {});\n",
              "          if (!dataTable) return;\n",
              "\n",
              "          const docLinkHtml = 'Like what you see? Visit the ' +\n",
              "            '<a target=\"_blank\" href=https://colab.research.google.com/notebooks/data_table.ipynb>data table notebook</a>'\n",
              "            + ' to learn more about interactive tables.';\n",
              "          element.innerHTML = '';\n",
              "          dataTable['output_type'] = 'display_data';\n",
              "          await google.colab.output.renderOutput(dataTable, element);\n",
              "          const docLink = document.createElement('div');\n",
              "          docLink.innerHTML = docLinkHtml;\n",
              "          element.appendChild(docLink);\n",
              "        }\n",
              "      </script>\n",
              "    </div>\n",
              "  </div>\n",
              "  "
            ]
          },
          "metadata": {},
          "execution_count": 139
        }
      ]
    },
    {
      "cell_type": "code",
      "source": [
        "df.columns"
      ],
      "metadata": {
        "colab": {
          "base_uri": "https://localhost:8080/"
        },
        "id": "nJi8sq2W8yBN",
        "outputId": "5ee141e5-d9cc-4ece-fbab-0eda12bab116"
      },
      "execution_count": 140,
      "outputs": [
        {
          "output_type": "execute_result",
          "data": {
            "text/plain": [
              "Index(['sepal_length', 'sepal_width', 'petal_length', 'petal_width', 'species',\n",
              "       'species_setosa', 'species_versicolor', 'species_virginica'],\n",
              "      dtype='object')"
            ]
          },
          "metadata": {},
          "execution_count": 140
        }
      ]
    },
    {
      "cell_type": "code",
      "source": [
        "X = df[['sepal_length', 'sepal_width', 'petal_length', 'petal_width']]\n",
        "y = df[['species_setosa', 'species_versicolor', 'species_virginica']]"
      ],
      "metadata": {
        "id": "bFoNFLHX7B7l"
      },
      "execution_count": 141,
      "outputs": []
    },
    {
      "cell_type": "markdown",
      "source": [
        "# Normalização\n",
        "\n",
        "Uma boa prática ao lidar com modelos neurais."
      ],
      "metadata": {
        "id": "tBbz-kNx9B-m"
      }
    },
    {
      "cell_type": "code",
      "metadata": {
        "id": "WSLEWuI0a9go"
      },
      "source": [
        "from sklearn.preprocessing import StandardScaler\n",
        "\n",
        "scaler = StandardScaler()\n",
        "scaler.fit(X)\n",
        "X = scaler.transform(X)\n",
        "\n"
      ],
      "execution_count": 142,
      "outputs": []
    },
    {
      "cell_type": "markdown",
      "metadata": {
        "id": "L40cJF1ccN5C"
      },
      "source": [
        "## Separando os dados de Treinamento e Teste"
      ]
    },
    {
      "cell_type": "code",
      "metadata": {
        "id": "RdElnvhvcSAe"
      },
      "source": [
        "X_train, X_test, y_train, y_test = train_test_split(X, y, test_size=0.3, stratify=y, random_state=1)\n"
      ],
      "execution_count": 143,
      "outputs": []
    },
    {
      "cell_type": "code",
      "source": [
        "X_train.shape"
      ],
      "metadata": {
        "colab": {
          "base_uri": "https://localhost:8080/"
        },
        "id": "XCs7PPsV9OxY",
        "outputId": "0db6ce7a-6637-4816-a5a3-b2474de34775"
      },
      "execution_count": 144,
      "outputs": [
        {
          "output_type": "execute_result",
          "data": {
            "text/plain": [
              "(105, 4)"
            ]
          },
          "metadata": {},
          "execution_count": 144
        }
      ]
    },
    {
      "cell_type": "code",
      "source": [
        "input_dim = X_train.shape[1] # nr de features"
      ],
      "metadata": {
        "id": "ter3vUFZ-R9K"
      },
      "execution_count": 145,
      "outputs": []
    },
    {
      "cell_type": "code",
      "source": [
        "y_train.shape"
      ],
      "metadata": {
        "colab": {
          "base_uri": "https://localhost:8080/"
        },
        "id": "fIqfP18i9Rgd",
        "outputId": "12691783-626b-4c36-e328-8c1c78e0e796"
      },
      "execution_count": 146,
      "outputs": [
        {
          "output_type": "execute_result",
          "data": {
            "text/plain": [
              "(105, 3)"
            ]
          },
          "metadata": {},
          "execution_count": 146
        }
      ]
    },
    {
      "cell_type": "code",
      "source": [
        "output_dim = y_train.shape[1] # nr de classes"
      ],
      "metadata": {
        "id": "n1WvOjTo-bkF"
      },
      "execution_count": 147,
      "outputs": []
    },
    {
      "cell_type": "markdown",
      "metadata": {
        "id": "zoKFbY_gyf2Z"
      },
      "source": [
        "# Configuração e Treinamento da Rede Deep Learning\n",
        "\n"
      ]
    },
    {
      "cell_type": "code",
      "metadata": {
        "id": "YVUC8oWhylEQ",
        "colab": {
          "base_uri": "https://localhost:8080/"
        },
        "outputId": "468c24dc-b3d3-45fb-c66e-fed5354d5dd0"
      },
      "source": [
        "# Net config \n",
        "model = Sequential([layers.Dense(X_train.shape[1], activation='tanh', input_shape=[X_train.shape[1],])]) \n",
        "\n",
        "model.add(layers.Dense(8, activation='tanh'))\n",
        "model.add(layers.Dense(8, activation='tanh'))\n",
        "\n",
        "model.add(layers.Dense(y_train.shape[1], activation='tanh'))\n",
        "\n",
        "# Train config\n",
        "model.compile(loss='categorical_crossentropy', optimizer='adam', metrics=['accuracy'])\n",
        "\n",
        "# Treinamento\n",
        "history = model.fit(X_train, y_train, validation_split=0.2, epochs=100)\n"
      ],
      "execution_count": 148,
      "outputs": [
        {
          "output_type": "stream",
          "name": "stdout",
          "text": [
            "Epoch 1/100\n",
            "3/3 [==============================] - 1s 117ms/step - loss: 5.2560 - accuracy: 0.1310 - val_loss: 7.2719 - val_accuracy: 0.1429\n",
            "Epoch 2/100\n",
            "3/3 [==============================] - 0s 19ms/step - loss: 5.2221 - accuracy: 0.1310 - val_loss: 7.2634 - val_accuracy: 0.1429\n",
            "Epoch 3/100\n",
            "3/3 [==============================] - 0s 18ms/step - loss: 5.1858 - accuracy: 0.1310 - val_loss: 7.2802 - val_accuracy: 0.1429\n",
            "Epoch 4/100\n",
            "3/3 [==============================] - 0s 16ms/step - loss: 5.1554 - accuracy: 0.1310 - val_loss: 7.8061 - val_accuracy: 0.1429\n",
            "Epoch 5/100\n",
            "3/3 [==============================] - 0s 16ms/step - loss: 5.3157 - accuracy: 0.1310 - val_loss: 7.7719 - val_accuracy: 0.1429\n",
            "Epoch 6/100\n",
            "3/3 [==============================] - 0s 16ms/step - loss: 5.4811 - accuracy: 0.1310 - val_loss: 7.7450 - val_accuracy: 0.1429\n",
            "Epoch 7/100\n",
            "3/3 [==============================] - 0s 17ms/step - loss: 5.4509 - accuracy: 0.1310 - val_loss: 8.4887 - val_accuracy: 0.1429\n",
            "Epoch 8/100\n",
            "3/3 [==============================] - 0s 16ms/step - loss: 6.0022 - accuracy: 0.1310 - val_loss: 8.4706 - val_accuracy: 0.1429\n",
            "Epoch 9/100\n",
            "3/3 [==============================] - 0s 16ms/step - loss: 6.1703 - accuracy: 0.1310 - val_loss: 8.4591 - val_accuracy: 0.1429\n",
            "Epoch 10/100\n",
            "3/3 [==============================] - 0s 19ms/step - loss: 6.5451 - accuracy: 0.1310 - val_loss: 8.4578 - val_accuracy: 0.1429\n",
            "Epoch 11/100\n",
            "3/3 [==============================] - 0s 20ms/step - loss: 6.5426 - accuracy: 0.1429 - val_loss: 8.4566 - val_accuracy: 0.1429\n",
            "Epoch 12/100\n",
            "3/3 [==============================] - 0s 16ms/step - loss: 6.7333 - accuracy: 0.1429 - val_loss: 8.4560 - val_accuracy: 0.1429\n",
            "Epoch 13/100\n",
            "3/3 [==============================] - 0s 17ms/step - loss: 6.4812 - accuracy: 0.1429 - val_loss: 8.4568 - val_accuracy: 0.1429\n",
            "Epoch 14/100\n",
            "3/3 [==============================] - 0s 16ms/step - loss: 6.4546 - accuracy: 0.1548 - val_loss: 7.8250 - val_accuracy: 0.1429\n",
            "Epoch 15/100\n",
            "3/3 [==============================] - 0s 19ms/step - loss: 6.4273 - accuracy: 0.1548 - val_loss: 7.7989 - val_accuracy: 0.1429\n",
            "Epoch 16/100\n",
            "3/3 [==============================] - 0s 15ms/step - loss: 6.4193 - accuracy: 0.1548 - val_loss: 8.5543 - val_accuracy: 0.1429\n",
            "Epoch 17/100\n",
            "3/3 [==============================] - 0s 18ms/step - loss: 6.2988 - accuracy: 0.1548 - val_loss: 8.5464 - val_accuracy: 0.1429\n",
            "Epoch 18/100\n",
            "3/3 [==============================] - 0s 17ms/step - loss: 6.4700 - accuracy: 0.1548 - val_loss: 8.5411 - val_accuracy: 0.1429\n",
            "Epoch 19/100\n",
            "3/3 [==============================] - 0s 17ms/step - loss: 6.3044 - accuracy: 0.1548 - val_loss: 8.5371 - val_accuracy: 0.1429\n",
            "Epoch 20/100\n",
            "3/3 [==============================] - 0s 17ms/step - loss: 6.2876 - accuracy: 0.1548 - val_loss: 8.5341 - val_accuracy: 0.1429\n",
            "Epoch 21/100\n",
            "3/3 [==============================] - 0s 17ms/step - loss: 6.0213 - accuracy: 0.1548 - val_loss: 9.2963 - val_accuracy: 0.1429\n",
            "Epoch 22/100\n",
            "3/3 [==============================] - 0s 16ms/step - loss: 6.3281 - accuracy: 0.1548 - val_loss: 9.2920 - val_accuracy: 0.1429\n",
            "Epoch 23/100\n",
            "3/3 [==============================] - 0s 18ms/step - loss: 6.4943 - accuracy: 0.1548 - val_loss: 10.0566 - val_accuracy: 0.1429\n",
            "Epoch 24/100\n",
            "3/3 [==============================] - 0s 16ms/step - loss: 8.0204 - accuracy: 0.1548 - val_loss: 10.0547 - val_accuracy: 0.1429\n",
            "Epoch 25/100\n",
            "3/3 [==============================] - 0s 18ms/step - loss: 8.0673 - accuracy: 0.1548 - val_loss: 9.4321 - val_accuracy: 0.1429\n",
            "Epoch 26/100\n",
            "3/3 [==============================] - 0s 17ms/step - loss: 9.0600 - accuracy: 0.1548 - val_loss: 10.2677 - val_accuracy: 0.1429\n",
            "Epoch 27/100\n",
            "3/3 [==============================] - 0s 18ms/step - loss: 9.6370 - accuracy: 0.1667 - val_loss: 10.1984 - val_accuracy: 0.1429\n",
            "Epoch 28/100\n",
            "3/3 [==============================] - 0s 17ms/step - loss: 8.5407 - accuracy: 0.1786 - val_loss: 8.1414 - val_accuracy: 0.1429\n",
            "Epoch 29/100\n",
            "3/3 [==============================] - 0s 21ms/step - loss: 6.2710 - accuracy: 0.1786 - val_loss: 7.9850 - val_accuracy: 0.1429\n",
            "Epoch 30/100\n",
            "3/3 [==============================] - 0s 19ms/step - loss: 6.7599 - accuracy: 0.1786 - val_loss: 7.9411 - val_accuracy: 0.1429\n",
            "Epoch 31/100\n",
            "3/3 [==============================] - 0s 15ms/step - loss: 7.2687 - accuracy: 0.1905 - val_loss: 8.6869 - val_accuracy: 0.1429\n",
            "Epoch 32/100\n",
            "3/3 [==============================] - 0s 17ms/step - loss: 7.2345 - accuracy: 0.2024 - val_loss: 8.6739 - val_accuracy: 0.1429\n",
            "Epoch 33/100\n",
            "3/3 [==============================] - 0s 17ms/step - loss: 7.2137 - accuracy: 0.2143 - val_loss: 8.6648 - val_accuracy: 0.1429\n",
            "Epoch 34/100\n",
            "3/3 [==============================] - 0s 17ms/step - loss: 7.2001 - accuracy: 0.2381 - val_loss: 9.4254 - val_accuracy: 0.1429\n",
            "Epoch 35/100\n",
            "3/3 [==============================] - 0s 15ms/step - loss: 6.9965 - accuracy: 0.2381 - val_loss: 9.4197 - val_accuracy: 0.1429\n",
            "Epoch 36/100\n",
            "3/3 [==============================] - 0s 27ms/step - loss: 6.9872 - accuracy: 0.2381 - val_loss: 9.4146 - val_accuracy: 0.1429\n",
            "Epoch 37/100\n",
            "3/3 [==============================] - 0s 16ms/step - loss: 6.9790 - accuracy: 0.2381 - val_loss: 9.4099 - val_accuracy: 0.1429\n",
            "Epoch 38/100\n",
            "3/3 [==============================] - 0s 20ms/step - loss: 6.9704 - accuracy: 0.2381 - val_loss: 9.4055 - val_accuracy: 0.1429\n",
            "Epoch 39/100\n",
            "3/3 [==============================] - 0s 16ms/step - loss: 6.9628 - accuracy: 0.2381 - val_loss: 9.4012 - val_accuracy: 0.1429\n",
            "Epoch 40/100\n",
            "3/3 [==============================] - 0s 19ms/step - loss: 6.9556 - accuracy: 0.2381 - val_loss: 9.3969 - val_accuracy: 0.1429\n",
            "Epoch 41/100\n",
            "3/3 [==============================] - 0s 16ms/step - loss: 6.9487 - accuracy: 0.2381 - val_loss: 9.3925 - val_accuracy: 0.1429\n",
            "Epoch 42/100\n",
            "3/3 [==============================] - 0s 20ms/step - loss: 6.9407 - accuracy: 0.2381 - val_loss: 9.3880 - val_accuracy: 0.1429\n",
            "Epoch 43/100\n",
            "3/3 [==============================] - 0s 19ms/step - loss: 6.9334 - accuracy: 0.2381 - val_loss: 9.3833 - val_accuracy: 0.1429\n",
            "Epoch 44/100\n",
            "3/3 [==============================] - 0s 18ms/step - loss: 6.9253 - accuracy: 0.2381 - val_loss: 8.1175 - val_accuracy: 0.1905\n",
            "Epoch 45/100\n",
            "3/3 [==============================] - 0s 17ms/step - loss: 6.9170 - accuracy: 0.2500 - val_loss: 8.0509 - val_accuracy: 0.1905\n",
            "Epoch 46/100\n",
            "3/3 [==============================] - 0s 28ms/step - loss: 6.9090 - accuracy: 0.2619 - val_loss: 8.0210 - val_accuracy: 0.1905\n",
            "Epoch 47/100\n",
            "3/3 [==============================] - 0s 17ms/step - loss: 6.8998 - accuracy: 0.2619 - val_loss: 7.9995 - val_accuracy: 0.1905\n",
            "Epoch 48/100\n",
            "3/3 [==============================] - 0s 17ms/step - loss: 6.8906 - accuracy: 0.2619 - val_loss: 7.9781 - val_accuracy: 0.1905\n",
            "Epoch 49/100\n",
            "3/3 [==============================] - 0s 21ms/step - loss: 6.8806 - accuracy: 0.2619 - val_loss: 7.9611 - val_accuracy: 0.2381\n",
            "Epoch 50/100\n",
            "3/3 [==============================] - 0s 16ms/step - loss: 7.0621 - accuracy: 0.2619 - val_loss: 7.9440 - val_accuracy: 0.2381\n",
            "Epoch 51/100\n",
            "3/3 [==============================] - 0s 17ms/step - loss: 7.0494 - accuracy: 0.2738 - val_loss: 7.9295 - val_accuracy: 0.2381\n",
            "Epoch 52/100\n",
            "3/3 [==============================] - 0s 16ms/step - loss: 7.0376 - accuracy: 0.2857 - val_loss: 7.9138 - val_accuracy: 0.2381\n",
            "Epoch 53/100\n",
            "3/3 [==============================] - 0s 16ms/step - loss: 7.0246 - accuracy: 0.2976 - val_loss: 7.1309 - val_accuracy: 0.2857\n",
            "Epoch 54/100\n",
            "3/3 [==============================] - 0s 17ms/step - loss: 7.0086 - accuracy: 0.3333 - val_loss: 7.1167 - val_accuracy: 0.2857\n",
            "Epoch 55/100\n",
            "3/3 [==============================] - 0s 17ms/step - loss: 6.6118 - accuracy: 0.3810 - val_loss: 7.1069 - val_accuracy: 0.2857\n",
            "Epoch 56/100\n",
            "3/3 [==============================] - 0s 19ms/step - loss: 6.4084 - accuracy: 0.4048 - val_loss: 7.0980 - val_accuracy: 0.2857\n",
            "Epoch 57/100\n",
            "3/3 [==============================] - 0s 18ms/step - loss: 6.2089 - accuracy: 0.4048 - val_loss: 7.0921 - val_accuracy: 0.2857\n",
            "Epoch 58/100\n",
            "3/3 [==============================] - 0s 26ms/step - loss: 6.0118 - accuracy: 0.4286 - val_loss: 7.0866 - val_accuracy: 0.2857\n",
            "Epoch 59/100\n",
            "3/3 [==============================] - 0s 18ms/step - loss: 6.0087 - accuracy: 0.4881 - val_loss: 7.0824 - val_accuracy: 0.3810\n",
            "Epoch 60/100\n",
            "3/3 [==============================] - 0s 18ms/step - loss: 6.0049 - accuracy: 0.5238 - val_loss: 7.0795 - val_accuracy: 0.3810\n",
            "Epoch 61/100\n",
            "3/3 [==============================] - 0s 18ms/step - loss: 5.8105 - accuracy: 0.5238 - val_loss: 7.0774 - val_accuracy: 0.3810\n",
            "Epoch 62/100\n",
            "3/3 [==============================] - 0s 18ms/step - loss: 5.8081 - accuracy: 0.5238 - val_loss: 7.0758 - val_accuracy: 0.3810\n",
            "Epoch 63/100\n",
            "3/3 [==============================] - 0s 19ms/step - loss: 5.6138 - accuracy: 0.5238 - val_loss: 7.0747 - val_accuracy: 0.3810\n",
            "Epoch 64/100\n",
            "3/3 [==============================] - 0s 19ms/step - loss: 5.6114 - accuracy: 0.5238 - val_loss: 7.0746 - val_accuracy: 0.3810\n",
            "Epoch 65/100\n",
            "3/3 [==============================] - 0s 18ms/step - loss: 5.6095 - accuracy: 0.5238 - val_loss: 7.0750 - val_accuracy: 0.3810\n",
            "Epoch 66/100\n",
            "3/3 [==============================] - 0s 17ms/step - loss: 5.6077 - accuracy: 0.5238 - val_loss: 7.0756 - val_accuracy: 0.3810\n",
            "Epoch 67/100\n",
            "3/3 [==============================] - 0s 16ms/step - loss: 5.6061 - accuracy: 0.5238 - val_loss: 7.0764 - val_accuracy: 0.3810\n",
            "Epoch 68/100\n",
            "3/3 [==============================] - 0s 17ms/step - loss: 5.6046 - accuracy: 0.5238 - val_loss: 7.0772 - val_accuracy: 0.3810\n",
            "Epoch 69/100\n",
            "3/3 [==============================] - 0s 16ms/step - loss: 5.6026 - accuracy: 0.5238 - val_loss: 7.0781 - val_accuracy: 0.3810\n",
            "Epoch 70/100\n",
            "3/3 [==============================] - 0s 17ms/step - loss: 5.6011 - accuracy: 0.5238 - val_loss: 7.0794 - val_accuracy: 0.3810\n",
            "Epoch 71/100\n",
            "3/3 [==============================] - 0s 18ms/step - loss: 5.5992 - accuracy: 0.5238 - val_loss: 7.0807 - val_accuracy: 0.3810\n",
            "Epoch 72/100\n",
            "3/3 [==============================] - 0s 17ms/step - loss: 5.5976 - accuracy: 0.5238 - val_loss: 7.0820 - val_accuracy: 0.3810\n",
            "Epoch 73/100\n",
            "3/3 [==============================] - 0s 26ms/step - loss: 5.5957 - accuracy: 0.5238 - val_loss: 7.0836 - val_accuracy: 0.3810\n",
            "Epoch 74/100\n",
            "3/3 [==============================] - 0s 18ms/step - loss: 5.5940 - accuracy: 0.5238 - val_loss: 7.0855 - val_accuracy: 0.3810\n",
            "Epoch 75/100\n",
            "3/3 [==============================] - 0s 19ms/step - loss: 5.5920 - accuracy: 0.5238 - val_loss: 7.0872 - val_accuracy: 0.3810\n",
            "Epoch 76/100\n",
            "3/3 [==============================] - 0s 22ms/step - loss: 5.5901 - accuracy: 0.5238 - val_loss: 7.0886 - val_accuracy: 0.3810\n",
            "Epoch 77/100\n",
            "3/3 [==============================] - 0s 18ms/step - loss: 5.5884 - accuracy: 0.5238 - val_loss: 7.0900 - val_accuracy: 0.3810\n",
            "Epoch 78/100\n",
            "3/3 [==============================] - 0s 15ms/step - loss: 5.5872 - accuracy: 0.5238 - val_loss: 7.0915 - val_accuracy: 0.3810\n",
            "Epoch 79/100\n",
            "3/3 [==============================] - 0s 18ms/step - loss: 5.5859 - accuracy: 0.5238 - val_loss: 7.0930 - val_accuracy: 0.3810\n",
            "Epoch 80/100\n",
            "3/3 [==============================] - 0s 17ms/step - loss: 5.4436 - accuracy: 0.5238 - val_loss: 7.0857 - val_accuracy: 0.3810\n",
            "Epoch 81/100\n",
            "3/3 [==============================] - 0s 17ms/step - loss: 5.6076 - accuracy: 0.5238 - val_loss: 7.0810 - val_accuracy: 0.4286\n",
            "Epoch 82/100\n",
            "3/3 [==============================] - 0s 15ms/step - loss: 5.5904 - accuracy: 0.5238 - val_loss: 7.1012 - val_accuracy: 0.3810\n",
            "Epoch 83/100\n",
            "3/3 [==============================] - 0s 17ms/step - loss: 5.5875 - accuracy: 0.5238 - val_loss: 7.2778 - val_accuracy: 0.3810\n",
            "Epoch 84/100\n",
            "3/3 [==============================] - 0s 18ms/step - loss: 5.5830 - accuracy: 0.5238 - val_loss: 7.7245 - val_accuracy: 0.4286\n",
            "Epoch 85/100\n",
            "3/3 [==============================] - 0s 18ms/step - loss: 5.5809 - accuracy: 0.5357 - val_loss: 7.7187 - val_accuracy: 0.4286\n",
            "Epoch 86/100\n",
            "3/3 [==============================] - 0s 18ms/step - loss: 5.5798 - accuracy: 0.5357 - val_loss: 7.7181 - val_accuracy: 0.4286\n",
            "Epoch 87/100\n",
            "3/3 [==============================] - 0s 18ms/step - loss: 5.5799 - accuracy: 0.5357 - val_loss: 7.7178 - val_accuracy: 0.4286\n",
            "Epoch 88/100\n",
            "3/3 [==============================] - 0s 16ms/step - loss: 5.9634 - accuracy: 0.5357 - val_loss: 7.7167 - val_accuracy: 0.4286\n",
            "Epoch 89/100\n",
            "3/3 [==============================] - 0s 19ms/step - loss: 5.9633 - accuracy: 0.5357 - val_loss: 7.7155 - val_accuracy: 0.4286\n",
            "Epoch 90/100\n",
            "3/3 [==============================] - 0s 20ms/step - loss: 6.1549 - accuracy: 0.5357 - val_loss: 7.7137 - val_accuracy: 0.4286\n",
            "Epoch 91/100\n",
            "3/3 [==============================] - 0s 17ms/step - loss: 6.1544 - accuracy: 0.5357 - val_loss: 7.7112 - val_accuracy: 0.4286\n",
            "Epoch 92/100\n",
            "3/3 [==============================] - 0s 18ms/step - loss: 6.1536 - accuracy: 0.5357 - val_loss: 7.7080 - val_accuracy: 0.4286\n",
            "Epoch 93/100\n",
            "3/3 [==============================] - 0s 16ms/step - loss: 6.1528 - accuracy: 0.5357 - val_loss: 7.7072 - val_accuracy: 0.4286\n",
            "Epoch 94/100\n",
            "3/3 [==============================] - 0s 20ms/step - loss: 6.1514 - accuracy: 0.5357 - val_loss: 7.7070 - val_accuracy: 0.4286\n",
            "Epoch 95/100\n",
            "3/3 [==============================] - 0s 17ms/step - loss: 6.1512 - accuracy: 0.5357 - val_loss: 7.7066 - val_accuracy: 0.4286\n",
            "Epoch 96/100\n",
            "3/3 [==============================] - 0s 17ms/step - loss: 6.1510 - accuracy: 0.5357 - val_loss: 7.7060 - val_accuracy: 0.4286\n",
            "Epoch 97/100\n",
            "3/3 [==============================] - 0s 105ms/step - loss: 6.1504 - accuracy: 0.5357 - val_loss: 7.7056 - val_accuracy: 0.4286\n",
            "Epoch 98/100\n",
            "3/3 [==============================] - 0s 69ms/step - loss: 6.1503 - accuracy: 0.5357 - val_loss: 7.7055 - val_accuracy: 0.4286\n",
            "Epoch 99/100\n",
            "3/3 [==============================] - 0s 80ms/step - loss: 6.1500 - accuracy: 0.5357 - val_loss: 7.7055 - val_accuracy: 0.4286\n",
            "Epoch 100/100\n",
            "3/3 [==============================] - 0s 72ms/step - loss: 6.3416 - accuracy: 0.5357 - val_loss: 7.7057 - val_accuracy: 0.4286\n"
          ]
        }
      ]
    },
    {
      "cell_type": "code",
      "metadata": {
        "id": "zrkQMDRzzmJq",
        "colab": {
          "base_uri": "https://localhost:8080/",
          "height": 700
        },
        "outputId": "0b05191b-18f4-44d7-d7ad-0b6ecc4bec85"
      },
      "source": [
        "loss, val_loss, acc, val_acc = plot_loss_acc(history,'Two Hidden Layer Neural Network 4,8,8,3 (sigmoid)')\n"
      ],
      "execution_count": 149,
      "outputs": [
        {
          "output_type": "display_data",
          "data": {
            "text/plain": [
              "<Figure size 576x360 with 1 Axes>"
            ],
            "image/png": "[encoded data removed]"
          },
          "metadata": {
            "needs_background": "light"
          }
        },
        {
          "output_type": "display_data",
          "data": {
            "text/plain": [
              "<Figure size 576x360 with 1 Axes>"
            ],
            "image/png": "[encoded data removed]"
          },
          "metadata": {
            "needs_background": "light"
          }
        },
        {
          "output_type": "stream",
          "name": "stdout",
          "text": [
            "Two Hidden Layer Neural Network 4,8,8,3 (sigmoid)Accuracy Train: 53.57 %, Accuracy Test: 42.86 %\n"
          ]
        }
      ]
    },
    {
      "cell_type": "markdown",
      "metadata": {
        "id": "5Oc0b8_O05yj"
      },
      "source": [
        "# Predição \n",
        "\n",
        "Vamos fazer a inversa do Hot Encode, para isso podemos empregar a função  `np.argmax()`."
      ]
    },
    {
      "cell_type": "code",
      "metadata": {
        "id": "O0df3TPl1B2b",
        "colab": {
          "base_uri": "https://localhost:8080/"
        },
        "outputId": "9300709e-4798-4138-a809-5ed1ca40d57d"
      },
      "source": [
        "# Predict\n",
        "y_pred = np.argmax(model.predict(X_test), axis=-1)\n",
        "    \n",
        "print(confusion_matrix(np.argmax(y_test.to_numpy(), axis=-1),y_pred))\n",
        "print(classification_report(np.argmax(y_test.to_numpy(), axis=-1),y_pred))"
      ],
      "execution_count": 150,
      "outputs": [
        {
          "output_type": "stream",
          "name": "stdout",
          "text": [
            "2/2 [==============================] - 0s 6ms/step\n",
            "[[15  0  0]\n",
            " [ 3 10  2]\n",
            " [ 1 14  0]]\n",
            "              precision    recall  f1-score   support\n",
            "\n",
            "           0       0.79      1.00      0.88        15\n",
            "           1       0.42      0.67      0.51        15\n",
            "           2       0.00      0.00      0.00        15\n",
            "\n",
            "    accuracy                           0.56        45\n",
            "   macro avg       0.40      0.56      0.47        45\n",
            "weighted avg       0.40      0.56      0.47        45\n",
            "\n"
          ]
        }
      ]
    },
    {
      "cell_type": "code",
      "source": [
        "score = model.evaluate(X_test, y_test, verbose=0)\n",
        "print('Test loss:', score[0])\n",
        "print('Test accuracy:', score[1])"
      ],
      "metadata": {
        "colab": {
          "base_uri": "https://localhost:8080/"
        },
        "id": "7dV3liwqEqGo",
        "outputId": "cfbbf27d-3c40-46f3-f904-71f08ad34ce1"
      },
      "execution_count": 151,
      "outputs": [
        {
          "output_type": "stream",
          "name": "stdout",
          "text": [
            "Test loss: 6.447238445281982\n",
            "Test accuracy: 0.5555555820465088\n"
          ]
        }
      ]
    },
    {
      "cell_type": "markdown",
      "source": [
        "# Explore melhores resultados\n",
        "\n",
        "* Experimente empregar o parâmetro `batch_size`\n",
        "* Experimente as funções de ativação `relu` (hidden) e `softmax` (output) \n",
        "* Experimente diferentes números de camadas e elementos por camada"
      ],
      "metadata": {
        "id": "AjzVcp4iFga2"
      }
    },
    {
      "cell_type": "code",
      "source": [
        "# Net config \n",
        "model = Sequential([layers.Dense(X_train.shape[1], activation='relu', input_shape=[X_train.shape[1],])]) \n",
        "\n",
        "model.add(layers.Dense(8, activation='relu'))\n",
        "model.add(layers.Dense(8, activation='relu'))\n",
        "model.add(layers.Dense(8, activation='relu'))\n",
        "\n",
        "model.add(layers.Dense(y_train.shape[1], activation='softmax'))\n",
        "\n",
        "# Train config\n",
        "model.compile(loss='categorical_crossentropy', optimizer='adam', metrics=['accuracy'])\n",
        "\n",
        "# Treinamento\n",
        "history = model.fit(X_train, y_train, validation_split=0.2, epochs=50, batch_size=8, verbose=0)\n",
        "\n",
        "loss, val_loss, acc, val_acc = plot_loss_acc(history,'Two Hidden Layer Neural Network 4,8,8,8,3 (relu, softmax)')\n",
        "\n",
        "# Predict\n",
        "y_pred = np.argmax(model.predict(X_test), axis=-1)\n",
        "\n",
        "score = model.evaluate(X_test, y_test, verbose=0)\n",
        "print('\\nTest loss:', score[0])\n",
        "print('\\nTest accuracy:', score[1])\n",
        "\n",
        "print(confusion_matrix(np.argmax(y_test.to_numpy(), axis=-1),y_pred))\n",
        "print(classification_report(np.argmax(y_test.to_numpy(), axis=-1),y_pred))\n",
        "\n"
      ],
      "metadata": {
        "colab": {
          "base_uri": "https://localhost:8080/",
          "height": 1000
        },
        "id": "qhhgZiBHCzxa",
        "outputId": "e4f553b4-4735-4f87-8a98-c3a62ab5d1bc"
      },
      "execution_count": 152,
      "outputs": [
        {
          "output_type": "display_data",
          "data": {
            "text/plain": [
              "<Figure size 576x360 with 1 Axes>"
            ],
            "image/png": "[encoded data removed]"
          },
          "metadata": {
            "needs_background": "light"
          }
        },
        {
          "output_type": "display_data",
          "data": {
            "text/plain": [
              "<Figure size 576x360 with 1 Axes>"
            ],
            "image/png": "[encoded data removed]"
          },
          "metadata": {
            "needs_background": "light"
          }
        },
        {
          "output_type": "stream",
          "name": "stdout",
          "text": [
            "Two Hidden Layer Neural Network 4,8,8,8,3 (relu, softmax)Accuracy Train: 90.48 %, Accuracy Test: 95.24 %\n",
            "2/2 [==============================] - 0s 5ms/step\n",
            "\n",
            "Test loss: 0.3280520737171173\n",
            "\n",
            "Test accuracy: 0.8888888955116272\n",
            "[[15  0  0]\n",
            " [ 0 11  4]\n",
            " [ 0  1 14]]\n",
            "              precision    recall  f1-score   support\n",
            "\n",
            "           0       1.00      1.00      1.00        15\n",
            "           1       0.92      0.73      0.81        15\n",
            "           2       0.78      0.93      0.85        15\n",
            "\n",
            "    accuracy                           0.89        45\n",
            "   macro avg       0.90      0.89      0.89        45\n",
            "weighted avg       0.90      0.89      0.89        45\n",
            "\n"
          ]
        }
      ]
    }
  ]
}