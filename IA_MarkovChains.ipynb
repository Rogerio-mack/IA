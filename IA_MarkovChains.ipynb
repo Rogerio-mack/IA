{
  "nbformat": 4,
  "nbformat_minor": 0,
  "metadata": {
    "colab": {
      "name": "IA_MarkovChains.ipynb",
      "provenance": [],
      "authorship_tag": "ABX9TyM3P+TnEthyLxLlHQPOmqm0",
      "include_colab_link": true
    },
    "kernelspec": {
      "name": "python3",
      "display_name": "Python 3"
    },
    "language_info": {
      "name": "python"
    }
  },
  "cells": [
    {
      "cell_type": "markdown",
      "metadata": {
        "id": "view-in-github",
        "colab_type": "text"
      },
      "source": [
        "<a href=\"https://colab.research.google.com/github/Rogerio-mack/IA/blob/main/IA_MarkovChains.ipynb\" target=\"_parent\"><img src=\"https://colab.research.google.com/assets/colab-badge.svg\" alt=\"Open In Colab\"/></a>"
      ]
    },
    {
      "cell_type": "markdown",
      "source": [
        "# Referencias\n",
        "\n",
        "https://www.datacamp.com/tutorial/markov-chains-python-tutorial\n",
        "\n",
        "https://www.machinelearningplus.com/markov-chain/\n",
        "\n",
        "https://towardsdatascience.com/hands-on-markov-chains-example-using-python-8138bf2bd971\n",
        "\n",
        "# Deep\n",
        "\n",
        "https://ericmjl.github.io/essays-on-data-science/machine-learning/markov-models/\n",
        "\n",
        "https://python.quantecon.org/finite_markov.html\n"
      ],
      "metadata": {
        "id": "FSYtknfo8-Xi"
      }
    }
  ]
}