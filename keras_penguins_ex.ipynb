{
  "cells": [
    {
      "cell_type": "markdown",
      "metadata": {
        "id": "view-in-github",
        "colab_type": "text"
      },
      "source": [
        "<a href=\"https://colab.research.google.com/github/Rogerio-mack/IA/blob/main/keras_penguins_ex.ipynb\" target=\"_parent\"><img src=\"https://colab.research.google.com/assets/colab-badge.svg\" alt=\"Open In Colab\"/></a>"
      ]
    },
    {
      "cell_type": "markdown",
      "metadata": {
        "id": "40b90843"
      },
      "source": [
        "<img src=\"http://meusite.mackenzie.br/rogerio/mackenzie_logo/UPM.2_horizontal_vermelho.jpg\"  width=300, align=\"right\">\n"
      ]
    },
    {
      "cell_type": "markdown",
      "source": [
        "# Lab Keras\n",
        "\n",
        "Neste exercício você vai empregar modelos Sequenciais do `Keras` para resolver o problema de classificação da base de dados `penguins`. Siga os passos e, a seguir, responda o questionário no Moodle. Vamos buscar prever com modelos de redes profundas a ilha de um pinguim com base nos demais atributos. \n",
        "\n",
        "Acesse [aqui](https://keras.io/) a documentação do `Keras`."
      ],
      "metadata": {
        "id": "2D9RkEcSdoya"
      }
    },
    {
      "cell_type": "code",
      "source": [
        "import numpy as np\n",
        "import pandas as pd\n",
        "import matplotlib.pyplot as plt\n",
        "%matplotlib inline\n",
        "import seaborn as sns"
      ],
      "metadata": {
        "id": "lCLrs_gphWec"
      },
      "execution_count": 1,
      "outputs": []
    },
    {
      "cell_type": "markdown",
      "source": [
        "# Dados"
      ],
      "metadata": {
        "id": "HzKo4Nd9rAze"
      }
    },
    {
      "cell_type": "code",
      "source": [
        "df = sns.load_dataset('penguins')\n",
        "df.head()"
      ],
      "metadata": {
        "colab": {
          "base_uri": "https://localhost:8080/",
          "height": 206
        },
        "id": "DcofqH1SyTiB",
        "outputId": "8215c96a-d2e1-4581-8c73-645204cacf3d"
      },
      "execution_count": 2,
      "outputs": [
        {
          "output_type": "execute_result",
          "data": {
            "text/plain": [
              "  species     island  bill_length_mm  bill_depth_mm  flipper_length_mm  \\\n",
              "0  Adelie  Torgersen            39.1           18.7              181.0   \n",
              "1  Adelie  Torgersen            39.5           17.4              186.0   \n",
              "2  Adelie  Torgersen            40.3           18.0              195.0   \n",
              "3  Adelie  Torgersen             NaN            NaN                NaN   \n",
              "4  Adelie  Torgersen            36.7           19.3              193.0   \n",
              "\n",
              "   body_mass_g     sex  \n",
              "0       3750.0    Male  \n",
              "1       3800.0  Female  \n",
              "2       3250.0  Female  \n",
              "3          NaN     NaN  \n",
              "4       3450.0  Female  "
            ],
            "text/html": [
              "\n",
              "  <div id=\"df-4d47504b-c307-416f-9c84-ac027e3a75bb\">\n",
              "    <div class=\"colab-df-container\">\n",
              "      <div>\n",
              "<style scoped>\n",
              "    .dataframe tbody tr th:only-of-type {\n",
              "        vertical-align: middle;\n",
              "    }\n",
              "\n",
              "    .dataframe tbody tr th {\n",
              "        vertical-align: top;\n",
              "    }\n",
              "\n",
              "    .dataframe thead th {\n",
              "        text-align: right;\n",
              "    }\n",
              "</style>\n",
              "<table border=\"1\" class=\"dataframe\">\n",
              "  <thead>\n",
              "    <tr style=\"text-align: right;\">\n",
              "      <th></th>\n",
              "      <th>species</th>\n",
              "      <th>island</th>\n",
              "      <th>bill_length_mm</th>\n",
              "      <th>bill_depth_mm</th>\n",
              "      <th>flipper_length_mm</th>\n",
              "      <th>body_mass_g</th>\n",
              "      <th>sex</th>\n",
              "    </tr>\n",
              "  </thead>\n",
              "  <tbody>\n",
              "    <tr>\n",
              "      <th>0</th>\n",
              "      <td>Adelie</td>\n",
              "      <td>Torgersen</td>\n",
              "      <td>39.1</td>\n",
              "      <td>18.7</td>\n",
              "      <td>181.0</td>\n",
              "      <td>3750.0</td>\n",
              "      <td>Male</td>\n",
              "    </tr>\n",
              "    <tr>\n",
              "      <th>1</th>\n",
              "      <td>Adelie</td>\n",
              "      <td>Torgersen</td>\n",
              "      <td>39.5</td>\n",
              "      <td>17.4</td>\n",
              "      <td>186.0</td>\n",
              "      <td>3800.0</td>\n",
              "      <td>Female</td>\n",
              "    </tr>\n",
              "    <tr>\n",
              "      <th>2</th>\n",
              "      <td>Adelie</td>\n",
              "      <td>Torgersen</td>\n",
              "      <td>40.3</td>\n",
              "      <td>18.0</td>\n",
              "      <td>195.0</td>\n",
              "      <td>3250.0</td>\n",
              "      <td>Female</td>\n",
              "    </tr>\n",
              "    <tr>\n",
              "      <th>3</th>\n",
              "      <td>Adelie</td>\n",
              "      <td>Torgersen</td>\n",
              "      <td>NaN</td>\n",
              "      <td>NaN</td>\n",
              "      <td>NaN</td>\n",
              "      <td>NaN</td>\n",
              "      <td>NaN</td>\n",
              "    </tr>\n",
              "    <tr>\n",
              "      <th>4</th>\n",
              "      <td>Adelie</td>\n",
              "      <td>Torgersen</td>\n",
              "      <td>36.7</td>\n",
              "      <td>19.3</td>\n",
              "      <td>193.0</td>\n",
              "      <td>3450.0</td>\n",
              "      <td>Female</td>\n",
              "    </tr>\n",
              "  </tbody>\n",
              "</table>\n",
              "</div>\n",
              "      <button class=\"colab-df-convert\" onclick=\"convertToInteractive('df-4d47504b-c307-416f-9c84-ac027e3a75bb')\"\n",
              "              title=\"Convert this dataframe to an interactive table.\"\n",
              "              style=\"display:none;\">\n",
              "        \n",
              "  <svg xmlns=\"http://www.w3.org/2000/svg\" height=\"24px\"viewBox=\"0 0 24 24\"\n",
              "       width=\"24px\">\n",
              "    <path d=\"M0 0h24v24H0V0z\" fill=\"none\"/>\n",
              "    <path d=\"M18.56 5.44l.94 2.06.94-2.06 2.06-.94-2.06-.94-.94-2.06-.94 2.06-2.06.94zm-11 1L8.5 8.5l.94-2.06 2.06-.94-2.06-.94L8.5 2.5l-.94 2.06-2.06.94zm10 10l.94 2.06.94-2.06 2.06-.94-2.06-.94-.94-2.06-.94 2.06-2.06.94z\"/><path d=\"M17.41 7.96l-1.37-1.37c-.4-.4-.92-.59-1.43-.59-.52 0-1.04.2-1.43.59L10.3 9.45l-7.72 7.72c-.78.78-.78 2.05 0 2.83L4 21.41c.39.39.9.59 1.41.59.51 0 1.02-.2 1.41-.59l7.78-7.78 2.81-2.81c.8-.78.8-2.07 0-2.86zM5.41 20L4 18.59l7.72-7.72 1.47 1.35L5.41 20z\"/>\n",
              "  </svg>\n",
              "      </button>\n",
              "      \n",
              "  <style>\n",
              "    .colab-df-container {\n",
              "      display:flex;\n",
              "      flex-wrap:wrap;\n",
              "      gap: 12px;\n",
              "    }\n",
              "\n",
              "    .colab-df-convert {\n",
              "      background-color: #E8F0FE;\n",
              "      border: none;\n",
              "      border-radius: 50%;\n",
              "      cursor: pointer;\n",
              "      display: none;\n",
              "      fill: #1967D2;\n",
              "      height: 32px;\n",
              "      padding: 0 0 0 0;\n",
              "      width: 32px;\n",
              "    }\n",
              "\n",
              "    .colab-df-convert:hover {\n",
              "      background-color: #E2EBFA;\n",
              "      box-shadow: 0px 1px 2px rgba(60, 64, 67, 0.3), 0px 1px 3px 1px rgba(60, 64, 67, 0.15);\n",
              "      fill: #174EA6;\n",
              "    }\n",
              "\n",
              "    [theme=dark] .colab-df-convert {\n",
              "      background-color: #3B4455;\n",
              "      fill: #D2E3FC;\n",
              "    }\n",
              "\n",
              "    [theme=dark] .colab-df-convert:hover {\n",
              "      background-color: #434B5C;\n",
              "      box-shadow: 0px 1px 3px 1px rgba(0, 0, 0, 0.15);\n",
              "      filter: drop-shadow(0px 1px 2px rgba(0, 0, 0, 0.3));\n",
              "      fill: #FFFFFF;\n",
              "    }\n",
              "  </style>\n",
              "\n",
              "      <script>\n",
              "        const buttonEl =\n",
              "          document.querySelector('#df-4d47504b-c307-416f-9c84-ac027e3a75bb button.colab-df-convert');\n",
              "        buttonEl.style.display =\n",
              "          google.colab.kernel.accessAllowed ? 'block' : 'none';\n",
              "\n",
              "        async function convertToInteractive(key) {\n",
              "          const element = document.querySelector('#df-4d47504b-c307-416f-9c84-ac027e3a75bb');\n",
              "          const dataTable =\n",
              "            await google.colab.kernel.invokeFunction('convertToInteractive',\n",
              "                                                     [key], {});\n",
              "          if (!dataTable) return;\n",
              "\n",
              "          const docLinkHtml = 'Like what you see? Visit the ' +\n",
              "            '<a target=\"_blank\" href=https://colab.research.google.com/notebooks/data_table.ipynb>data table notebook</a>'\n",
              "            + ' to learn more about interactive tables.';\n",
              "          element.innerHTML = '';\n",
              "          dataTable['output_type'] = 'display_data';\n",
              "          await google.colab.output.renderOutput(dataTable, element);\n",
              "          const docLink = document.createElement('div');\n",
              "          docLink.innerHTML = docLinkHtml;\n",
              "          element.appendChild(docLink);\n",
              "        }\n",
              "      </script>\n",
              "    </div>\n",
              "  </div>\n",
              "  "
            ]
          },
          "metadata": {},
          "execution_count": 2
        }
      ]
    },
    {
      "cell_type": "markdown",
      "source": [
        "# Dropna\n",
        "\n",
        "Verifique e exclua os dados ausentes."
      ],
      "metadata": {
        "id": "bcVr7Q2A-zlg"
      }
    },
    {
      "cell_type": "code",
      "source": [
        "# seu código"
      ],
      "metadata": {
        "id": "6YYlvhC4cB_i"
      },
      "execution_count": null,
      "outputs": []
    },
    {
      "cell_type": "markdown",
      "source": [
        "# Transformações\n",
        "\n",
        "O `Keras` possui várias funções de transformação como HotEncode e Normalização, mas aqui vamos seguir empregando as funções que você já conhece do `scikit-learn`."
      ],
      "metadata": {
        "id": "BLokMAq8yCSr"
      }
    },
    {
      "cell_type": "markdown",
      "source": [
        "# Hot Encode\n",
        "\n",
        "Faça o hot enconde de `species` e `island` empregando:\n",
        "\n",
        "```\n",
        "from sklearn.preprocessing import OneHotEncoder\n",
        "```"
      ],
      "metadata": {
        "id": "VeDkHr-g-2bK"
      }
    },
    {
      "cell_type": "code",
      "source": [
        "# seu código"
      ],
      "metadata": {
        "id": "b-Mhiy_J-4OH"
      },
      "execution_count": null,
      "outputs": []
    },
    {
      "cell_type": "markdown",
      "source": [
        "# Label Encode\n",
        "\n",
        "Faça o Label Encode de `sex` empregando\n",
        "\n",
        "```\n",
        "from sklearn.preprocessing import LabelEncoder\n",
        "```\n",
        "\n",
        "Ele é semelhante ao `OneHotEncode`. Consulte a documentação se precisar.  "
      ],
      "metadata": {
        "id": "VSMh65MW_QEB"
      }
    },
    {
      "cell_type": "code",
      "source": [
        "# seu código"
      ],
      "metadata": {
        "id": "1kqCUf28_GqR"
      },
      "execution_count": null,
      "outputs": []
    },
    {
      "cell_type": "markdown",
      "source": [
        "# Normalização\n",
        "\n",
        "Empregue:\n",
        "\n",
        "```\n",
        "from sklearn.preprocessing import StandardScaler\n",
        "```\n",
        "\n",
        "Para fazer a normalização dos dados:\n",
        "\n",
        "```\n",
        "['bill_length_mm', 'bill_depth_mm',\n",
        "       'flipper_length_mm', 'species_Adelie',\n",
        "       'species_Chinstrap', 'sex']\n",
        "```\n",
        "\n",
        "**Note**, fizemos a normalização eliminando uma das espécies. **Por que?**\n",
        "\n",
        "Não empregaremos `body_mass_g` nem `island` que são atributos objetivo das seções seguintes. O nome dos atributos ainda pode diferir de acordo com as transformações anteriores que você fez."
      ],
      "metadata": {
        "id": "YcK-bBpC_skN"
      }
    },
    {
      "cell_type": "code",
      "source": [
        "# seu código"
      ],
      "metadata": {
        "id": "5OcIqSmC_UVb"
      },
      "execution_count": 8,
      "outputs": []
    },
    {
      "cell_type": "markdown",
      "source": [
        "# Classificação\n",
        "\n",
        "Aqui vamos empregar redes neurais profundas para fazer a classificação da Ilha dos Penguins com base nos demais dados."
      ],
      "metadata": {
        "id": "dM36WsGkQ37c"
      }
    },
    {
      "cell_type": "markdown",
      "metadata": {
        "id": "L40cJF1ccN5C"
      },
      "source": [
        "## Separando os dados de Treinamento e Teste\n",
        "\n",
        "Empregue `random_state=1`, e 0.3 de dados de teste estratificados por y."
      ]
    },
    {
      "cell_type": "code",
      "metadata": {
        "id": "RdElnvhvcSAe"
      },
      "source": [
        "# seu código\n"
      ],
      "execution_count": 14,
      "outputs": []
    },
    {
      "cell_type": "markdown",
      "metadata": {
        "id": "zoKFbY_gyf2Z"
      },
      "source": [
        "# Configuração e Treinamento da Rede Deep Learning\n",
        "\n",
        "Empregue o template abaixo para criar 3 diferentes modelos de redes profundas. Faça mais de uma execução (3 ou mais) até os resultados estarem consistentes (o melhor modelo persistindo na maior parte das vezes). Descarte resultados abaixo de 50%.\n",
        "\n",
        "* Modelo 1\n",
        "> Somente com as camadas de entrada e saída. Empregue as funções `relu` e `softmax` respectivamente para as camadas de entrada e saída.\n",
        "\n",
        "* Modelo 2\n",
        "> Empregue as funções `relu` e `softmax` respectivamente para as camadas de entrada e saída. Empregue ainda 2 camadas ocultas de 64 elementos e função `relu`. \n",
        "\n",
        "* Modelo 3\n",
        "> **Pesquise para implementar!** O que é e como criar uma camada de `Dropout`? Empregue o modelo anterior adionando uma camada de `Dropout` de 10% após cada camada oculta."
      ]
    },
    {
      "cell_type": "code",
      "source": [
        "from tensorflow import keras\n",
        "from tensorflow.keras import layers\n",
        "from keras import Sequential, layers\n",
        "import tensorflow as tf\n",
        "\n",
        "from sklearn.model_selection import train_test_split\n",
        "from sklearn.metrics import confusion_matrix\n",
        "from sklearn.metrics import classification_report  "
      ],
      "metadata": {
        "id": "oUeLqeH9T_8e"
      },
      "execution_count": 11,
      "outputs": []
    },
    {
      "cell_type": "code",
      "source": [
        "print(\"TF Version: \", tf.__version__)\n",
        "print(\"GPU available: \", tf.config.list_physical_devices('GPU')) # havendo disponibilidade o modelo executa empregando GPU"
      ],
      "metadata": {
        "colab": {
          "base_uri": "https://localhost:8080/"
        },
        "id": "Af87y0DS6Lpm",
        "outputId": "35965cb2-7a0d-4848-b83b-0530dae7b3ef"
      },
      "execution_count": 12,
      "outputs": [
        {
          "output_type": "stream",
          "name": "stdout",
          "text": [
            "TF Version:  2.9.2\n",
            "GPU available:  [PhysicalDevice(name='/physical_device:GPU:0', device_type='GPU')]\n"
          ]
        }
      ]
    },
    {
      "cell_type": "code",
      "source": [
        "#@markdown `plot_loss_acc(history,more_title='')`\n",
        "def plot_loss_acc(history,more_title=''):\n",
        "    \n",
        "    loss = history.history['loss']\n",
        "    val_loss = history.history['val_loss']\n",
        "    epochs = range(1, len(loss) + 1)\n",
        "    plt.figure(figsize=(8,5))\n",
        "    plt.plot(epochs, loss, 'y', label='Training loss')\n",
        "    plt.plot(epochs, val_loss, 'r', label='Validation loss')\n",
        "    plt.title('Training and validation loss' + ' ' + more_title)\n",
        "    plt.xlabel('Epochs')\n",
        "    plt.ylabel('Loss')\n",
        "    plt.legend()\n",
        "    plt.show()\n",
        "    \n",
        "    acc = history.history['accuracy']\n",
        "    val_acc = history.history['val_accuracy']\n",
        "    plt.figure(figsize=(8,5))\n",
        "    plt.plot(epochs, acc, 'y', label='Training acc')\n",
        "    plt.plot(epochs, val_acc, 'r', label='Validation acc')\n",
        "    plt.title('Training and validation accuracy' + ' ' + more_title)\n",
        "    plt.xlabel('Epochs')\n",
        "    plt.ylabel('Accuracy')\n",
        "    plt.legend()\n",
        "    plt.show()\n",
        "\n",
        "    print(more_title + 'Accuracy Train: {:.2f} %, Accuracy Test: {:.2f} %'.format(acc[len(acc)-1] *100, val_acc[len(val_acc)-1]*100))\n",
        "\n",
        "    return loss, val_loss, acc, val_acc"
      ],
      "metadata": {
        "cellView": "form",
        "id": "_9XBBZa_6AR-"
      },
      "execution_count": 13,
      "outputs": []
    },
    {
      "cell_type": "markdown",
      "source": [
        "## Modelo 1"
      ],
      "metadata": {
        "id": "LksOJ3mBEm8B"
      }
    },
    {
      "cell_type": "code",
      "metadata": {
        "id": "3qLkyeneEv8u"
      },
      "source": [
        "# seu código \n",
        "\n",
        "# Neural net config\n",
        "model = Sequential(... # input layer\n",
        "\n",
        "# hidden layers \n",
        "\n",
        "model.add(... # output layer\n",
        "\n",
        "model.compile(loss='categorical_crossentropy', optimizer='adam', metrics=['accuracy'])\n",
        "\n",
        "# Treinamento\n",
        "history = model.fit(X_train, y_train, validation_split=0.2, epochs=100, batch_size=8, verbose=0)\n",
        "\n",
        "# Show results\n",
        "model.summary()\n",
        "\n",
        "score = model.evaluate(X_test, y_test, verbose=0)\n",
        "print('Test loss:', score[0])\n",
        "print()\n",
        "print('Test accuracy:', score[1])\n",
        "\n",
        "loss, val_loss, acc, val_acc = plot_loss_acc(history,' Keras Learning ')\n",
        "\n",
        "# save model\n",
        "model1 = ..."
      ],
      "execution_count": null,
      "outputs": []
    },
    {
      "cell_type": "markdown",
      "source": [
        "# Modelo 2\n"
      ],
      "metadata": {
        "id": "hu4e14uuoYr2"
      }
    },
    {
      "cell_type": "code",
      "source": [
        "# seu código"
      ],
      "metadata": {
        "id": "KXnK5di8oasQ"
      },
      "execution_count": null,
      "outputs": []
    },
    {
      "cell_type": "markdown",
      "source": [
        "# Modelo 3"
      ],
      "metadata": {
        "id": "5MAPa16_obg2"
      }
    },
    {
      "cell_type": "code",
      "source": [
        "# seu código"
      ],
      "metadata": {
        "id": "Z8k85PxLocu2"
      },
      "execution_count": null,
      "outputs": []
    },
    {
      "cell_type": "markdown",
      "source": [
        "### Summarize all results"
      ],
      "metadata": {
        "id": "MeaYEURkIGQk"
      }
    },
    {
      "cell_type": "code",
      "source": [
        "print( 'Score Accuracy Test Model 1: ' , model1.evaluate(X_test, y_test, verbose=0)[1] )\n",
        "print( 'Score Accuracy Test Model 2: ' , model2.evaluate(X_test, y_test, verbose=0)[1] )\n",
        "print( 'Score Accuracy Test Model 3: ' , model3.evaluate(X_test, y_test, verbose=0)[1] )"
      ],
      "metadata": {
        "id": "lX3B8D2XIH0U"
      },
      "execution_count": null,
      "outputs": []
    },
    {
      "cell_type": "markdown",
      "metadata": {
        "id": "5Oc0b8_O05yj"
      },
      "source": [
        "# Predição `X_test`\n",
        "\n",
        "Empregue o melhor dos 3 modelos e construa a matriz de confusão (`confusion_matrix`) sobre o conjunto de teste."
      ]
    },
    {
      "cell_type": "code",
      "metadata": {
        "id": "O0df3TPl1B2b"
      },
      "source": [
        "# seu código"
      ],
      "execution_count": null,
      "outputs": []
    },
    {
      "cell_type": "markdown",
      "source": [
        "# Predição de um novo caso\n",
        "\n",
        "Empregue o melhor dos 3 modelos. Faça a predição de um pinguim modelo da espécie `Gentoo` do sexo masculino. Os demais valores são os valores médios da coleção toda. Faça a predição da ilha de origem do pinguim modelo."
      ],
      "metadata": {
        "id": "irHvm1EellW7"
      }
    },
    {
      "cell_type": "code",
      "source": [
        "# seu código\n",
        "\n"
      ],
      "metadata": {
        "id": "yR04K9Z_h8uJ"
      },
      "execution_count": null,
      "outputs": []
    },
    {
      "cell_type": "code",
      "source": [
        "from sklearn.preprocessing import StandardScaler\n",
        "\n",
        "# seu código\n",
        "\n"
      ],
      "metadata": {
        "id": "9Tgbvgf8j7py"
      },
      "execution_count": null,
      "outputs": []
    },
    {
      "cell_type": "code",
      "source": [
        "# seu código"
      ],
      "metadata": {
        "id": "XBatDzNeLbm8"
      },
      "execution_count": null,
      "outputs": []
    }
  ],
  "metadata": {
    "colab": {
      "provenance": [],
      "collapsed_sections": [],
      "include_colab_link": true
    },
    "kernelspec": {
      "display_name": "Python 3",
      "name": "python3"
    },
    "accelerator": "GPU",
    "gpuClass": "standard"
  },
  "nbformat": 4,
  "nbformat_minor": 0
}